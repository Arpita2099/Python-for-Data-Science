{
 "cells": [
  {
   "cell_type": "code",
   "execution_count": 1,
   "id": "1d985cab-fc55-4f0c-b984-ea3b758eacef",
   "metadata": {},
   "outputs": [],
   "source": [
    "# Pandas in Python--->Pandas---->panel data--->2D data\n",
    "# Used for advanced mathametical calculation.\n"
   ]
  },
  {
   "cell_type": "code",
   "execution_count": 3,
   "id": "e20552db-a838-496c-a8e9-450c7e4ce68e",
   "metadata": {},
   "outputs": [
    {
     "name": "stdout",
     "output_type": "stream",
     "text": [
      "  School     Name Gender  Math  Science\n",
      "0    BVS    Suman      M    80       75\n",
      "1    BVS  Bitisha      F    90       95\n",
      "2    KMC    Eurek      M    70       65\n",
      "3    KMC     Sony      F    85       90\n",
      "4    KMC   Sameer      M    92       66\n",
      "5    KMC  Yunisha      F    93       82\n",
      "6    BVS     Ravi      M    74       64\n",
      "7    BVS  Dilasha      F    72       96\n"
     ]
    }
   ],
   "source": [
    "import pandas as pd\n",
    "import numpy as np\n",
    "\n",
    "# Dataframe\n",
    "df=pd.read_csv(\"dataset.csv\")\n",
    "print(df)"
   ]
  },
  {
   "cell_type": "code",
   "execution_count": 5,
   "id": "ed1c796e-738f-4cf0-85fb-984951ef5b89",
   "metadata": {},
   "outputs": [
    {
     "data": {
      "text/html": [
       "<div>\n",
       "<style scoped>\n",
       "    .dataframe tbody tr th:only-of-type {\n",
       "        vertical-align: middle;\n",
       "    }\n",
       "\n",
       "    .dataframe tbody tr th {\n",
       "        vertical-align: top;\n",
       "    }\n",
       "\n",
       "    .dataframe thead th {\n",
       "        text-align: right;\n",
       "    }\n",
       "</style>\n",
       "<table border=\"1\" class=\"dataframe\">\n",
       "  <thead>\n",
       "    <tr style=\"text-align: right;\">\n",
       "      <th></th>\n",
       "      <th>School</th>\n",
       "      <th>Name</th>\n",
       "      <th>Gender</th>\n",
       "      <th>Math</th>\n",
       "      <th>Science</th>\n",
       "    </tr>\n",
       "  </thead>\n",
       "  <tbody>\n",
       "    <tr>\n",
       "      <th>0</th>\n",
       "      <td>BVS</td>\n",
       "      <td>Suman</td>\n",
       "      <td>M</td>\n",
       "      <td>80</td>\n",
       "      <td>75</td>\n",
       "    </tr>\n",
       "    <tr>\n",
       "      <th>1</th>\n",
       "      <td>BVS</td>\n",
       "      <td>Bitisha</td>\n",
       "      <td>F</td>\n",
       "      <td>90</td>\n",
       "      <td>95</td>\n",
       "    </tr>\n",
       "    <tr>\n",
       "      <th>2</th>\n",
       "      <td>KMC</td>\n",
       "      <td>Eurek</td>\n",
       "      <td>M</td>\n",
       "      <td>70</td>\n",
       "      <td>65</td>\n",
       "    </tr>\n",
       "    <tr>\n",
       "      <th>3</th>\n",
       "      <td>KMC</td>\n",
       "      <td>Sony</td>\n",
       "      <td>F</td>\n",
       "      <td>85</td>\n",
       "      <td>90</td>\n",
       "    </tr>\n",
       "    <tr>\n",
       "      <th>4</th>\n",
       "      <td>KMC</td>\n",
       "      <td>Sameer</td>\n",
       "      <td>M</td>\n",
       "      <td>92</td>\n",
       "      <td>66</td>\n",
       "    </tr>\n",
       "  </tbody>\n",
       "</table>\n",
       "</div>"
      ],
      "text/plain": [
       "  School     Name Gender  Math  Science\n",
       "0    BVS    Suman      M    80       75\n",
       "1    BVS  Bitisha      F    90       95\n",
       "2    KMC    Eurek      M    70       65\n",
       "3    KMC     Sony      F    85       90\n",
       "4    KMC   Sameer      M    92       66"
      ]
     },
     "execution_count": 5,
     "metadata": {},
     "output_type": "execute_result"
    }
   ],
   "source": [
    "# First data Inspection (by default)\n",
    "# 4 steps to understand the gest of data.\n",
    "# 1st step\n",
    "df.head() # It will give the first 5 information of data."
   ]
  },
  {
   "cell_type": "code",
   "execution_count": 7,
   "id": "79150b47-8df9-4fb4-b76c-caccaf1e3da8",
   "metadata": {},
   "outputs": [
    {
     "data": {
      "text/html": [
       "<div>\n",
       "<style scoped>\n",
       "    .dataframe tbody tr th:only-of-type {\n",
       "        vertical-align: middle;\n",
       "    }\n",
       "\n",
       "    .dataframe tbody tr th {\n",
       "        vertical-align: top;\n",
       "    }\n",
       "\n",
       "    .dataframe thead th {\n",
       "        text-align: right;\n",
       "    }\n",
       "</style>\n",
       "<table border=\"1\" class=\"dataframe\">\n",
       "  <thead>\n",
       "    <tr style=\"text-align: right;\">\n",
       "      <th></th>\n",
       "      <th>School</th>\n",
       "      <th>Name</th>\n",
       "      <th>Gender</th>\n",
       "      <th>Math</th>\n",
       "      <th>Science</th>\n",
       "    </tr>\n",
       "  </thead>\n",
       "  <tbody>\n",
       "    <tr>\n",
       "      <th>3</th>\n",
       "      <td>KMC</td>\n",
       "      <td>Sony</td>\n",
       "      <td>F</td>\n",
       "      <td>85</td>\n",
       "      <td>90</td>\n",
       "    </tr>\n",
       "    <tr>\n",
       "      <th>4</th>\n",
       "      <td>KMC</td>\n",
       "      <td>Sameer</td>\n",
       "      <td>M</td>\n",
       "      <td>92</td>\n",
       "      <td>66</td>\n",
       "    </tr>\n",
       "    <tr>\n",
       "      <th>5</th>\n",
       "      <td>KMC</td>\n",
       "      <td>Yunisha</td>\n",
       "      <td>F</td>\n",
       "      <td>93</td>\n",
       "      <td>82</td>\n",
       "    </tr>\n",
       "    <tr>\n",
       "      <th>6</th>\n",
       "      <td>BVS</td>\n",
       "      <td>Ravi</td>\n",
       "      <td>M</td>\n",
       "      <td>74</td>\n",
       "      <td>64</td>\n",
       "    </tr>\n",
       "    <tr>\n",
       "      <th>7</th>\n",
       "      <td>BVS</td>\n",
       "      <td>Dilasha</td>\n",
       "      <td>F</td>\n",
       "      <td>72</td>\n",
       "      <td>96</td>\n",
       "    </tr>\n",
       "  </tbody>\n",
       "</table>\n",
       "</div>"
      ],
      "text/plain": [
       "  School     Name Gender  Math  Science\n",
       "3    KMC     Sony      F    85       90\n",
       "4    KMC   Sameer      M    92       66\n",
       "5    KMC  Yunisha      F    93       82\n",
       "6    BVS     Ravi      M    74       64\n",
       "7    BVS  Dilasha      F    72       96"
      ]
     },
     "execution_count": 7,
     "metadata": {},
     "output_type": "execute_result"
    }
   ],
   "source": [
    "# Secong step\n",
    "df.tail()"
   ]
  },
  {
   "cell_type": "code",
   "execution_count": 11,
   "id": "d792bffa-8a0f-4377-b79a-e6941441f1dc",
   "metadata": {},
   "outputs": [
    {
     "data": {
      "text/html": [
       "<div>\n",
       "<style scoped>\n",
       "    .dataframe tbody tr th:only-of-type {\n",
       "        vertical-align: middle;\n",
       "    }\n",
       "\n",
       "    .dataframe tbody tr th {\n",
       "        vertical-align: top;\n",
       "    }\n",
       "\n",
       "    .dataframe thead th {\n",
       "        text-align: right;\n",
       "    }\n",
       "</style>\n",
       "<table border=\"1\" class=\"dataframe\">\n",
       "  <thead>\n",
       "    <tr style=\"text-align: right;\">\n",
       "      <th></th>\n",
       "      <th>Math</th>\n",
       "      <th>Science</th>\n",
       "    </tr>\n",
       "  </thead>\n",
       "  <tbody>\n",
       "    <tr>\n",
       "      <th>count</th>\n",
       "      <td>8.000000</td>\n",
       "      <td>8.000000</td>\n",
       "    </tr>\n",
       "    <tr>\n",
       "      <th>mean</th>\n",
       "      <td>82.000000</td>\n",
       "      <td>79.125000</td>\n",
       "    </tr>\n",
       "    <tr>\n",
       "      <th>std</th>\n",
       "      <td>9.304377</td>\n",
       "      <td>13.527089</td>\n",
       "    </tr>\n",
       "    <tr>\n",
       "      <th>min</th>\n",
       "      <td>70.000000</td>\n",
       "      <td>64.000000</td>\n",
       "    </tr>\n",
       "    <tr>\n",
       "      <th>25%</th>\n",
       "      <td>73.500000</td>\n",
       "      <td>65.750000</td>\n",
       "    </tr>\n",
       "    <tr>\n",
       "      <th>50%</th>\n",
       "      <td>82.500000</td>\n",
       "      <td>78.500000</td>\n",
       "    </tr>\n",
       "    <tr>\n",
       "      <th>75%</th>\n",
       "      <td>90.500000</td>\n",
       "      <td>91.250000</td>\n",
       "    </tr>\n",
       "    <tr>\n",
       "      <th>max</th>\n",
       "      <td>93.000000</td>\n",
       "      <td>96.000000</td>\n",
       "    </tr>\n",
       "  </tbody>\n",
       "</table>\n",
       "</div>"
      ],
      "text/plain": [
       "            Math    Science\n",
       "count   8.000000   8.000000\n",
       "mean   82.000000  79.125000\n",
       "std     9.304377  13.527089\n",
       "min    70.000000  64.000000\n",
       "25%    73.500000  65.750000\n",
       "50%    82.500000  78.500000\n",
       "75%    90.500000  91.250000\n",
       "max    93.000000  96.000000"
      ]
     },
     "execution_count": 11,
     "metadata": {},
     "output_type": "execute_result"
    }
   ],
   "source": [
    "# third step find the statistics of dataset\n",
    "df.describe() # Numerical Column"
   ]
  },
  {
   "cell_type": "code",
   "execution_count": 13,
   "id": "4f5a3362-29c1-41eb-a2d9-7e445ac8a705",
   "metadata": {},
   "outputs": [
    {
     "name": "stdout",
     "output_type": "stream",
     "text": [
      "<class 'pandas.core.frame.DataFrame'>\n",
      "RangeIndex: 8 entries, 0 to 7\n",
      "Data columns (total 5 columns):\n",
      " #   Column   Non-Null Count  Dtype \n",
      "---  ------   --------------  ----- \n",
      " 0   School   8 non-null      object\n",
      " 1   Name     8 non-null      object\n",
      " 2   Gender   8 non-null      object\n",
      " 3   Math     8 non-null      int64 \n",
      " 4   Science  8 non-null      int64 \n",
      "dtypes: int64(2), object(3)\n",
      "memory usage: 452.0+ bytes\n"
     ]
    }
   ],
   "source": [
    "# Fourth steps \n",
    "df.info()"
   ]
  },
  {
   "cell_type": "code",
   "execution_count": 15,
   "id": "f6a44569-3b60-4b6e-8578-a7a56257e886",
   "metadata": {},
   "outputs": [],
   "source": [
    "# Fifth Step\n",
    "# Assignment\n",
    "# Some dataset do not have missing value and some have missing value."
   ]
  },
  {
   "cell_type": "code",
   "execution_count": 25,
   "id": "52407cab-2a15-43c4-8461-e0a0427ee484",
   "metadata": {},
   "outputs": [
    {
     "name": "stdout",
     "output_type": "stream",
     "text": [
      "[[ True False  True False False]\n",
      " [False False False False False]\n",
      " [False False False False False]\n",
      " [False  True False False False]\n",
      " [False False False False False]\n",
      " [False False  True False False]\n",
      " [ True False False False False]\n",
      " [False False False False False]]\n"
     ]
    }
   ],
   "source": [
    "import numpy as np\n",
    "import pandas as pd\n",
    "mask=np.random.rand(*df.shape) < 0.1\n",
    "print(mask)\n",
    "df[mask]=np.nan"
   ]
  },
  {
   "cell_type": "code",
   "execution_count": 27,
   "id": "6312cd39-6605-4c78-8aeb-a27e5211b00b",
   "metadata": {},
   "outputs": [
    {
     "name": "stdout",
     "output_type": "stream",
     "text": [
      "  School     Name Gender  Math  Science\n",
      "0    BVS    Suman      M    80       75\n",
      "1    BVS  Bitisha      F    90       95\n",
      "2    KMC    Eurek      M    70       65\n",
      "3    KMC     Sony      F    85       90\n",
      "4    KMC   Sameer      M    92       66\n",
      "5    KMC  Yunisha      F    93       82\n",
      "6    BVS     Ravi      M    74       64\n",
      "7    BVS  Dilasha      F    72       96\n"
     ]
    }
   ],
   "source": [
    "print(df)"
   ]
  },
  {
   "cell_type": "code",
   "execution_count": 29,
   "id": "f1865427-47cf-443a-b5bd-aec1f001653f",
   "metadata": {},
   "outputs": [
    {
     "name": "stdout",
     "output_type": "stream",
     "text": [
      "<class 'pandas.core.frame.DataFrame'>\n",
      "RangeIndex: 8 entries, 0 to 7\n",
      "Data columns (total 5 columns):\n",
      " #   Column   Non-Null Count  Dtype \n",
      "---  ------   --------------  ----- \n",
      " 0   School   8 non-null      object\n",
      " 1   Name     8 non-null      object\n",
      " 2   Gender   8 non-null      object\n",
      " 3   Math     8 non-null      int64 \n",
      " 4   Science  8 non-null      int64 \n",
      "dtypes: int64(2), object(3)\n",
      "memory usage: 452.0+ bytes\n"
     ]
    }
   ],
   "source": [
    "df.info()"
   ]
  },
  {
   "cell_type": "code",
   "execution_count": 31,
   "id": "6d634e17-d1ba-4e72-a6dc-ba91b60498b0",
   "metadata": {},
   "outputs": [
    {
     "data": {
      "text/plain": [
       "School     False\n",
       "Name       False\n",
       "Gender     False\n",
       "Math       False\n",
       "Science    False\n",
       "dtype: bool"
      ]
     },
     "execution_count": 31,
     "metadata": {},
     "output_type": "execute_result"
    }
   ],
   "source": [
    "df.isnull().any()"
   ]
  },
  {
   "cell_type": "code",
   "execution_count": 33,
   "id": "e4339444-87a0-4967-bb65-6eff59817cdb",
   "metadata": {},
   "outputs": [
    {
     "data": {
      "text/plain": [
       "School     0\n",
       "Name       0\n",
       "Gender     0\n",
       "Math       0\n",
       "Science    0\n",
       "dtype: int64"
      ]
     },
     "execution_count": 33,
     "metadata": {},
     "output_type": "execute_result"
    }
   ],
   "source": [
    "df.isnull().sum() # Column wise"
   ]
  },
  {
   "cell_type": "code",
   "execution_count": 35,
   "id": "68b61194-f997-4a52-a621-52d527d3e0fa",
   "metadata": {},
   "outputs": [
    {
     "data": {
      "text/plain": [
       "0"
      ]
     },
     "execution_count": 35,
     "metadata": {},
     "output_type": "execute_result"
    }
   ],
   "source": [
    "df.isnull().sum().sum() # df entire dataframe sum"
   ]
  },
  {
   "cell_type": "code",
   "execution_count": 37,
   "id": "185e9521-2b09-41eb-8576-f9a4e999a491",
   "metadata": {},
   "outputs": [],
   "source": [
    "# Handle missing values\n",
    "# Some of the popular method are ffill, bfill, mean fill, mode fill, median fill\n",
    "# Mean and median for numeric data and mode for categorical data"
   ]
  },
  {
   "cell_type": "code",
   "execution_count": 39,
   "id": "78dc5426-550e-420a-9f35-d2b7317a392d",
   "metadata": {},
   "outputs": [
    {
     "name": "stdout",
     "output_type": "stream",
     "text": [
      "  School     Name Gender  Math  Science\n",
      "0    BVS    Suman      M    80       75\n",
      "1    BVS  Bitisha      F    90       95\n",
      "2    KMC    Eurek      M    70       65\n",
      "3    KMC     Sony      F    85       90\n",
      "4    KMC   Sameer      M    92       66\n",
      "5    KMC  Yunisha      F    93       82\n",
      "6    BVS     Ravi      M    74       64\n",
      "7    BVS  Dilasha      F    72       96\n"
     ]
    }
   ],
   "source": [
    "df[\"Math\"]=df[\"Math\"].fillna(df[\"Math\"].mean())\n",
    "print(df)"
   ]
  },
  {
   "cell_type": "code",
   "execution_count": 43,
   "id": "4b82426d-12ed-4b7b-a5c5-5c2eb435f7e7",
   "metadata": {},
   "outputs": [
    {
     "name": "stdout",
     "output_type": "stream",
     "text": [
      "  School     Name Gender  Math  Science\n",
      "0    BVS    Suman      M    80       75\n",
      "1    BVS  Bitisha      F    90       95\n",
      "2    KMC    Eurek      M    70       65\n",
      "3    KMC     Sony      F    85       90\n",
      "4    KMC   Sameer      M    92       66\n",
      "5    KMC  Yunisha      F    93       82\n",
      "6    BVS     Ravi      M    74       64\n",
      "7    BVS  Dilasha      F    72       96\n"
     ]
    }
   ],
   "source": [
    "df[\"Science\"]=df[\"Science\"].fillna(df[\"Science\"].median())\n",
    "print(df)"
   ]
  },
  {
   "cell_type": "code",
   "execution_count": 45,
   "id": "48416262-02b2-4114-9cee-56673460160f",
   "metadata": {},
   "outputs": [
    {
     "name": "stdout",
     "output_type": "stream",
     "text": [
      "<class 'pandas.core.frame.DataFrame'>\n",
      "RangeIndex: 8 entries, 0 to 7\n",
      "Data columns (total 5 columns):\n",
      " #   Column   Non-Null Count  Dtype \n",
      "---  ------   --------------  ----- \n",
      " 0   School   8 non-null      object\n",
      " 1   Name     8 non-null      object\n",
      " 2   Gender   8 non-null      object\n",
      " 3   Math     8 non-null      int64 \n",
      " 4   Science  8 non-null      int64 \n",
      "dtypes: int64(2), object(3)\n",
      "memory usage: 452.0+ bytes\n"
     ]
    }
   ],
   "source": [
    "df.info()"
   ]
  },
  {
   "cell_type": "code",
   "execution_count": 47,
   "id": "46dd73cc-82b6-46b9-a0f3-182440879712",
   "metadata": {},
   "outputs": [
    {
     "name": "stdout",
     "output_type": "stream",
     "text": [
      "0    BVS\n",
      "1    KMC\n",
      "Name: School, dtype: object\n"
     ]
    }
   ],
   "source": [
    "\n",
    "print(df[\"School\"].mode())\n"
   ]
  },
  {
   "cell_type": "code",
   "execution_count": 51,
   "id": "b567424a-a902-4918-a2e0-e12b4b06e323",
   "metadata": {},
   "outputs": [
    {
     "data": {
      "text/plain": [
       "0"
      ]
     },
     "execution_count": 51,
     "metadata": {},
     "output_type": "execute_result"
    }
   ],
   "source": [
    "# After handing missing data, I am assured that my dataset is not complete. So, to check it I can perform following function.\n",
    "df.isnull().sum().sum()\n",
    "# so, i am assured that the dataset have missing value"
   ]
  },
  {
   "cell_type": "code",
   "execution_count": 55,
   "id": "13414cc1-2213-4e22-9622-d5e73f31f93f",
   "metadata": {},
   "outputs": [
    {
     "name": "stdout",
     "output_type": "stream",
     "text": [
      "  School     Name Gender  Math  Science\n",
      "0    BVS    Suman      M    80       75\n",
      "1    BVS  Bitisha      F    90       95\n",
      "2    KMC    Eurek      M    70       65\n",
      "3    KMC     Sony      F    85       90\n",
      "4    KMC   Sameer      M    92       66\n",
      "5    KMC  Yunisha      F    93       82\n",
      "6    BVS     Ravi      M    74       64\n",
      "7    BVS  Dilasha      F    72       96\n",
      "\n",
      " Filtered row is \n",
      ":    School     Name Gender  Math  Science\n",
      "0    BVS    Suman      M    80       75\n",
      "1    BVS  Bitisha      F    90       95\n",
      "3    KMC     Sony      F    85       90\n",
      "5    KMC  Yunisha      F    93       82\n",
      "7    BVS  Dilasha      F    72       96\n"
     ]
    }
   ],
   "source": [
    "# Filtering dataset\n",
    "print(df)\n",
    "filtered=df[df[\"Science\"]>70]\n",
    "print(\"\\n Filtered row is \\n: \",filtered)"
   ]
  },
  {
   "cell_type": "code",
   "execution_count": 61,
   "id": "28df8fb9-92a8-4b73-92fe-89d4855520c0",
   "metadata": {},
   "outputs": [
    {
     "name": "stdout",
     "output_type": "stream",
     "text": [
      "  School     Name Gender  Math  Science\n",
      "1    BVS  Bitisha      F    90       95\n",
      "3    KMC     Sony      F    85       90\n",
      "5    KMC  Yunisha      F    93       82\n"
     ]
    }
   ],
   "source": [
    "filtered=df[(df[\"Science\"]>70) & (df[\"Math\"]>80)]\n",
    "print(filtered)"
   ]
  },
  {
   "cell_type": "code",
   "execution_count": 65,
   "id": "9a01753e-8716-4ab5-8001-29df9eff9bf8",
   "metadata": {},
   "outputs": [
    {
     "name": "stdout",
     "output_type": "stream",
     "text": [
      "  School    Name Gender  Math  Science\n",
      "0    BVS   Suman      M    80       75\n",
      "2    KMC   Eurek      M    70       65\n",
      "4    KMC  Sameer      M    92       66\n",
      "6    BVS    Ravi      M    74       64\n"
     ]
    }
   ],
   "source": [
    "filtered=df[df[\"Gender\"]==\"M\"]\n",
    "print(filtered)"
   ]
  },
  {
   "cell_type": "code",
   "execution_count": 73,
   "id": "fecad85a-c488-4e87-bdff-34a0c06a21bc",
   "metadata": {},
   "outputs": [
    {
     "name": "stdout",
     "output_type": "stream",
     "text": [
      "\n",
      "Average of Science column: 79.125\n",
      "\n",
      "Rows where Science > average:\n",
      "   School     Name Gender  Math  Science\n",
      "1    BVS  Bitisha      F    90       95\n",
      "3    KMC     Sony      F    85       90\n",
      "5    KMC  Yunisha      F    93       82\n",
      "7    BVS  Dilasha      F    72       96\n",
      "\n",
      "Rows where Science > average:\n",
      "   School     Name Gender  Math  Science\n",
      "1    BVS  Bitisha      F    90       95\n",
      "3    KMC     Sony      F    85       90\n",
      "5    KMC  Yunisha      F    93       82\n",
      "7    BVS  Dilasha      F    72       96\n"
     ]
    }
   ],
   "source": [
    "# Colum Science average > row is input:\n",
    "science_avg = df['Science'].mean()\n",
    "print(\"\\nAverage of Science column:\", science_avg)\n",
    "filtered = df[df['Science'] > df[\"Science\"].mean()]\n",
    "filtered = df[df['Science'] > science_avg]\n",
    "print(\"\\nRows where Science > average:\\n\", filtered)\n",
    "print(\"\\nRows where Science > average:\\n\", filtered)"
   ]
  },
  {
   "cell_type": "code",
   "execution_count": 1,
   "id": "95211872-4ea8-4466-8ff1-5069ec05caba",
   "metadata": {},
   "outputs": [],
   "source": [
    "# Week-5 Assignment\n",
    "# First search a cvs file.\n",
    "# Perform First Data Inspection. head, tail, info\n",
    "# Check if there are any missing values or not. If there are no missing values, introduce some missing \n",
    "# values-->randomly*---->imp\n",
    "# Now, use of isnull() methods, (isnull.sum, isnull.any, isnull.sum.sum) to identity total count of missing values.\n",
    "# Data imputation or Handling missing value using fillna\n"
   ]
  },
  {
   "cell_type": "code",
   "execution_count": null,
   "id": "34b16664-ca46-46cf-9941-3062995f233f",
   "metadata": {},
   "outputs": [],
   "source": [
    "# Advanced groupby methods\n",
    "\n",
    "# Grouping and aggregating"
   ]
  }
 ],
 "metadata": {
  "kernelspec": {
   "display_name": "Python 3 (ipykernel)",
   "language": "python",
   "name": "python3"
  },
  "language_info": {
   "codemirror_mode": {
    "name": "ipython",
    "version": 3
   },
   "file_extension": ".py",
   "mimetype": "text/x-python",
   "name": "python",
   "nbconvert_exporter": "python",
   "pygments_lexer": "ipython3",
   "version": "3.12.7"
  }
 },
 "nbformat": 4,
 "nbformat_minor": 5
}
