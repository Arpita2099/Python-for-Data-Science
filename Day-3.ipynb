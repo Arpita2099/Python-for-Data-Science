{
 "cells": [
  {
   "cell_type": "code",
   "execution_count": 5,
   "id": "4e17d858-2c97-4043-a9eb-1673ffe2da89",
   "metadata": {},
   "outputs": [
    {
     "name": "stdout",
     "output_type": "stream",
     "text": [
      "Output: \n",
      "Fruits: Mango\n",
      "\n",
      "Loop got terminated\n"
     ]
    }
   ],
   "source": [
    "# Loop control statement.\n",
    "# break\n",
    "fruits_basket=['Mango','Apple','Orange','Grapes']\n",
    "print(\"Output: \")\n",
    "for fruit in fruits_basket:\n",
    "    if fruit=='Apple':\n",
    "        break\n",
    "    print(\"Fruits:\",fruit)\n",
    "print(\"\\nLoop got terminated\")\n",
    "# continue\n",
    "# pass"
   ]
  },
  {
   "cell_type": "code",
   "execution_count": 11,
   "id": "c2debf78-7419-4bec-ad26-b0f31752c07a",
   "metadata": {},
   "outputs": [
    {
     "name": "stdout",
     "output_type": "stream",
     "text": [
      "Output: \n",
      "Fruits: Mango\n",
      "Fruits: Orange\n",
      "Fruits: Grapes\n",
      "\n",
      "Loop got terminated\n"
     ]
    }
   ],
   "source": [
    "# Continue\n",
    "fruits_basket=['Mango','Apple','Orange','Grapes']\n",
    "print(\"Output: \")\n",
    "for fruit in fruits_basket:\n",
    "    if fruit=='Apple':\n",
    "        continue\n",
    "    print(\"Fruits:\",fruit)\n",
    "print(\"\\nLoop got terminated\")\n",
    "# continue"
   ]
  },
  {
   "cell_type": "code",
   "execution_count": 13,
   "id": "fdaaaee7-f0ef-4553-91c0-3f3c9616664b",
   "metadata": {},
   "outputs": [
    {
     "name": "stdout",
     "output_type": "stream",
     "text": [
      "This is outside for loop\n"
     ]
    }
   ],
   "source": [
    "for i in range(2,20):\n",
    "    pass\n",
    "print(\"This is outside for loop\")"
   ]
  },
  {
   "cell_type": "code",
   "execution_count": 15,
   "id": "f5127361-3fa6-4987-ae82-2bd8400be5c0",
   "metadata": {},
   "outputs": [],
   "source": [
    "# Function and Module"
   ]
  },
  {
   "cell_type": "code",
   "execution_count": 17,
   "id": "0a7995a1-5ef0-4975-9212-ecadc6983d9f",
   "metadata": {},
   "outputs": [],
   "source": [
    "# motivation behind functions:\n",
    "# Lets say i need to add two numbers...But i don't know the valuu."
   ]
  },
  {
   "cell_type": "code",
   "execution_count": 19,
   "id": "18ba69b7-4f96-4492-bf30-5fc26f1fd88b",
   "metadata": {},
   "outputs": [],
   "source": [
    "def fun_name(a,b):\n",
    "    print(a+b)"
   ]
  },
  {
   "cell_type": "code",
   "execution_count": 21,
   "id": "7dfc6fd2-aed8-4649-a558-33d92751ac4f",
   "metadata": {},
   "outputs": [
    {
     "name": "stdout",
     "output_type": "stream",
     "text": [
      "This is outside the function\n",
      "This is an online class.\n"
     ]
    }
   ],
   "source": [
    "def display(): # Function definition or header.\n",
    "    print(\"This is an online class.\") # Function body\n",
    "print(\"This is outside the function\")\n",
    "display() # Function invocation/calling of function.\n",
    "# Rules of writing the function means cannot use the reserve word."
   ]
  },
  {
   "cell_type": "code",
   "execution_count": 29,
   "id": "758128b3-cb5c-47f3-9751-9703f37e30e4",
   "metadata": {},
   "outputs": [
    {
     "data": {
      "text/plain": [
       "9"
      ]
     },
     "execution_count": 29,
     "metadata": {},
     "output_type": "execute_result"
    }
   ],
   "source": [
    "# Add two number:\n",
    "def sum_num(a,b):# Formal parameter\n",
    "    sum=a+b\n",
    "    return sum\n",
    "sum_num(3,6) # arguments"
   ]
  },
  {
   "cell_type": "code",
   "execution_count": 31,
   "id": "6df51f87-ea4e-4e7e-9fe0-bfd50cbfc622",
   "metadata": {},
   "outputs": [
    {
     "name": "stdout",
     "output_type": "stream",
     "text": [
      "11\n"
     ]
    }
   ],
   "source": [
    "def add(a,b):\n",
    "    return a+b\n",
    "c=add(3,8)\n",
    "print(c)"
   ]
  },
  {
   "cell_type": "code",
   "execution_count": 33,
   "id": "69952907-627e-4bd1-971d-45207230fd1f",
   "metadata": {},
   "outputs": [],
   "source": [
    "# After return value any other line cannot be print out in the python function."
   ]
  },
  {
   "cell_type": "code",
   "execution_count": 37,
   "id": "e2edb24a-e09d-46ae-94df-ce2c935c5f04",
   "metadata": {},
   "outputs": [
    {
     "name": "stdout",
     "output_type": "stream",
     "text": [
      "[2, 4, 6, 8, 10]\n"
     ]
    }
   ],
   "source": [
    "# List extract even number from a list.\n",
    "def even_list(a):\n",
    "    even=[]\n",
    "    for i in a:\n",
    "        if i%2==0:\n",
    "            even.append(i)\n",
    "    return even\n",
    "L=[1,2,3,4,5,6,7,8,9,10]\n",
    "print(even_list(L))\n"
   ]
  },
  {
   "cell_type": "code",
   "execution_count": 39,
   "id": "3c5c2bf4-88ce-4c14-8046-af72653486fd",
   "metadata": {},
   "outputs": [],
   "source": [
    "# Can you return a list which contain values between 5 and 10 only"
   ]
  },
  {
   "cell_type": "code",
   "execution_count": 47,
   "id": "ac47ff4d-ce10-4e78-9c04-49fdb2a904f6",
   "metadata": {},
   "outputs": [
    {
     "name": "stdout",
     "output_type": "stream",
     "text": [
      "[5, 6, 7, 8, 9, 10]\n"
     ]
    }
   ],
   "source": [
    "def even_list(a):\n",
    "    even=[]\n",
    "    for i in a:\n",
    "        if 5<=i and i<=10:\n",
    "            even.append(i)\n",
    "    return even\n",
    "L=[1,2,3,4,5,6,7,8,9,10]\n",
    "print(even_list(L))"
   ]
  },
  {
   "cell_type": "code",
   "execution_count": 49,
   "id": "1ba8c4f6-080f-463f-846b-dcf469effbe5",
   "metadata": {},
   "outputs": [],
   "source": [
    "# Variable-length/Arbitrary arguments:"
   ]
  },
  {
   "cell_type": "code",
   "execution_count": 51,
   "id": "90c2e786-b38f-4ecd-87ec-39fbbccaad96",
   "metadata": {},
   "outputs": [
    {
     "data": {
      "text/plain": [
       "4.333333333333333"
      ]
     },
     "execution_count": 51,
     "metadata": {},
     "output_type": "execute_result"
    }
   ],
   "source": [
    "# Average\n",
    "def average(a,b,c):\n",
    "    return (a+b+c)/3\n",
    "average(2,4,7)"
   ]
  },
  {
   "cell_type": "code",
   "execution_count": 55,
   "id": "48e8beac-d0e3-48ce-907b-bb6b094c32e8",
   "metadata": {},
   "outputs": [
    {
     "name": "stdout",
     "output_type": "stream",
     "text": [
      "The average of three number are:  26.666666666666668\n",
      "The average of three number are:  30.0\n"
     ]
    }
   ],
   "source": [
    "def average(*args):\n",
    "    sum,count=0,0\n",
    "    for i in args:\n",
    "        sum=sum+i\n",
    "        count=count+1\n",
    "    return sum/count\n",
    "print(\"The average of three number are: \",average(10,30,40))\n",
    "print(\"The average of three number are: \",average(10,30,40,50,20))"
   ]
  },
  {
   "cell_type": "code",
   "execution_count": 57,
   "id": "6b35ae4e-eae8-4e3a-9c33-22669246c6ff",
   "metadata": {},
   "outputs": [],
   "source": [
    "# lambda function"
   ]
  },
  {
   "cell_type": "code",
   "execution_count": 63,
   "id": "56c92dff-7313-4f42-95b8-737032fadd1d",
   "metadata": {},
   "outputs": [
    {
     "name": "stdout",
     "output_type": "stream",
     "text": [
      "40\n"
     ]
    }
   ],
   "source": [
    "a=lambda x,y:x+y\n",
    "c=a(19,21)\n",
    "print(c)"
   ]
  },
  {
   "cell_type": "code",
   "execution_count": null,
   "id": "e73be3b8-20a4-4ef8-9ee7-672245eaa7c9",
   "metadata": {},
   "outputs": [],
   "source": [
    "# Write a function "
   ]
  }
 ],
 "metadata": {
  "kernelspec": {
   "display_name": "Python 3 (ipykernel)",
   "language": "python",
   "name": "python3"
  },
  "language_info": {
   "codemirror_mode": {
    "name": "ipython",
    "version": 3
   },
   "file_extension": ".py",
   "mimetype": "text/x-python",
   "name": "python",
   "nbconvert_exporter": "python",
   "pygments_lexer": "ipython3",
   "version": "3.12.7"
  }
 },
 "nbformat": 4,
 "nbformat_minor": 5
}
