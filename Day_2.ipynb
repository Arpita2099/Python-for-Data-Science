{
 "cells": [
  {
   "cell_type": "code",
   "execution_count": 1,
   "id": "88d9f87e-843b-46c8-b4d7-8739999ef879",
   "metadata": {},
   "outputs": [
    {
     "name": "stdout",
     "output_type": "stream",
     "text": [
      "[[1 3 5 2 1 1]\n",
      " [5 1 8 3 7 3]\n",
      " [7 1 7 2 5 8]\n",
      " [3 5 6 9 3 7]] \n",
      "\n",
      "hsplit\n",
      " [array([[1, 3, 5],\n",
      "       [5, 1, 8],\n",
      "       [7, 1, 7],\n",
      "       [3, 5, 6]]), array([[2, 1, 1],\n",
      "       [3, 7, 3],\n",
      "       [2, 5, 8],\n",
      "       [9, 3, 7]])]\n",
      "vsplit\n",
      " [array([[1, 3, 5, 2, 1, 1],\n",
      "       [5, 1, 8, 3, 7, 3]]), array([[7, 1, 7, 2, 5, 8],\n",
      "       [3, 5, 6, 9, 3, 7]])]\n"
     ]
    }
   ],
   "source": [
    "# numpy split ans stack -vstack and hstack- hsplit and vsplit\n",
    "import numpy as np\n",
    "arr =np.random.randint(1,10,size=(4,6))\n",
    "print(arr,\"\\n\")\n",
    "\n",
    "# split\n",
    "print(\"hsplit\\n\",np.hsplit(arr,2))\n",
    "print(\"vsplit\\n\",np.vsplit(arr,2))"
   ]
  },
  {
   "cell_type": "code",
   "execution_count": 3,
   "id": "c72e6606-5a2e-4a64-81ed-972421c9f60d",
   "metadata": {},
   "outputs": [
    {
     "name": "stdout",
     "output_type": "stream",
     "text": [
      "hsplit\n",
      " [array([[1, 3],\n",
      "       [5, 1],\n",
      "       [7, 1],\n",
      "       [3, 5]]), array([[5, 2, 1, 1],\n",
      "       [8, 3, 7, 3],\n",
      "       [7, 2, 5, 8],\n",
      "       [6, 9, 3, 7]])]\n"
     ]
    }
   ],
   "source": [
    "print(\"hsplit\\n\",np.hsplit(arr,[2]))"
   ]
  },
  {
   "cell_type": "code",
   "execution_count": 7,
   "id": "651615dd-8e45-436e-956f-443e6100bcd7",
   "metadata": {},
   "outputs": [
    {
     "name": "stdout",
     "output_type": "stream",
     "text": [
      "hstack\n",
      " [2 3 5 6]\n"
     ]
    }
   ],
   "source": [
    "arr1=np.array([[2,3],[5,6]]) # horizontal direction it stack the array\n",
    "# hstack \n",
    "print(\"hstack\\n\",np.hstack(arr1))"
   ]
  },
  {
   "cell_type": "code",
   "execution_count": 9,
   "id": "1deb54f8-56f2-4ac3-992e-0a3ffce60078",
   "metadata": {},
   "outputs": [
    {
     "name": "stdout",
     "output_type": "stream",
     "text": [
      "vstack\n",
      " [[2 3]\n",
      " [5 6]]\n"
     ]
    }
   ],
   "source": [
    "arr1=np.array([[2,3],[5,6]]) # In vertical direction it stack the element.\n",
    "# vstack \n",
    "print(\"vstack\\n\",np.vstack(arr1))"
   ]
  },
  {
   "cell_type": "code",
   "execution_count": 27,
   "id": "88164024-92ed-4273-af77-e9694846911a",
   "metadata": {},
   "outputs": [
    {
     "name": "stdout",
     "output_type": "stream",
     "text": [
      "[[2 3 4 1]\n",
      " [5 6 7 3]]\n"
     ]
    }
   ],
   "source": [
    "a1=np.array([[2,3,4],[5,6,7]])\n",
    "a2=np.array([[1],[3]])\n",
    "a3=np.hstack((a1,a2))\n",
    "print(a3)"
   ]
  },
  {
   "cell_type": "code",
   "execution_count": null,
   "id": "e74a57fc-b60b-427a-8331-616c926214bb",
   "metadata": {},
   "outputs": [],
   "source": []
  }
 ],
 "metadata": {
  "kernelspec": {
   "display_name": "Python 3 (ipykernel)",
   "language": "python",
   "name": "python3"
  },
  "language_info": {
   "codemirror_mode": {
    "name": "ipython",
    "version": 3
   },
   "file_extension": ".py",
   "mimetype": "text/x-python",
   "name": "python",
   "nbconvert_exporter": "python",
   "pygments_lexer": "ipython3",
   "version": "3.12.7"
  }
 },
 "nbformat": 4,
 "nbformat_minor": 5
}
