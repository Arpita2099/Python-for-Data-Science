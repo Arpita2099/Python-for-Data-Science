{
 "cells": [
  {
   "cell_type": "code",
   "execution_count": 1,
   "id": "76bb48ca-af7e-46ce-a32f-d6ad3f714d3a",
   "metadata": {},
   "outputs": [],
   "source": [
    "import pandas as pd\n",
    "import numpy as np"
   ]
  },
  {
   "cell_type": "code",
   "execution_count": 8,
   "id": "53ad4940-3e4a-4892-b723-8261a9e3f9c4",
   "metadata": {},
   "outputs": [
    {
     "name": "stdout",
     "output_type": "stream",
     "text": [
      "        Name  Gender EthnicGroup  MathScore  ReadingScore  WritingScore\n",
      "0     Sushma  female         NaN       71.0          71.0          74.0\n",
      "1    Binisha  female     group C       69.0          90.0          88.0\n",
      "2     Sabana  female     group B       87.0          93.0          91.0\n",
      "3       Amar    male     group A       45.0          56.0          42.0\n",
      "4     Sanjay    male     group C       76.0          78.0          75.0\n",
      "5     Asmita  female     group B       73.0          84.0          79.0\n",
      "6    Kanchan  female     group B        NaN          93.0          89.0\n",
      "7    Washton    male     group B       41.0          43.0           NaN\n",
      "8     Yograj    male     group D       65.0          64.0          68.0\n",
      "9     Ragini  female     group B       37.0          59.0          50.0\n",
      "10    Naresh    male     group C       58.0           NaN          52.0\n",
      "11     Arpan    male     group D       40.0          52.0          43.0\n",
      "12      Sima  female     group B       66.0          82.0          74.0\n",
      "13     Pawan    male     group A        NaN          73.0          71.0\n",
      "14     Rinku  female     group A       48.0           NaN          58.0\n",
      "15    Khushi  female     group C       69.0          75.0          78.0\n",
      "16     Krish    male     group C       88.0          89.0           NaN\n",
      "17     Komal  female     group B       18.0          32.0          28.0\n",
      "18   Aditya     male     group C        NaN          42.0          47.0\n",
      "19      Rima  female     group C       50.0          56.0          58.0\n",
      "20     Arbaj    male     group D       66.0           NaN          63.0\n",
      "21    Amrita  female     group B       65.0          75.0          70.0\n",
      "22     Bibek    male     group D       42.0          53.0          51.0\n",
      "23    Arpita  female     group C       66.0          71.0          71.0\n",
      "24     Arjit    male     group D        NaN          71.0          80.0\n",
      "25    Manash    male     group A       75.0           NaN          76.0\n",
      "26  Aashutos    male     group B       66.0          53.0          53.0\n",
      "27    Anjila  female     group C       69.0          70.0          76.0\n",
      "28     Waisa    male     group C       70.0          70.0          65.0\n"
     ]
    }
   ],
   "source": [
    "# Dataframe\n",
    "df=pd.read_csv(\"EDataset.csv\")\n",
    "print(df)"
   ]
  },
  {
   "cell_type": "code",
   "execution_count": 9,
   "id": "55cf40e3-ac5b-43c7-973e-32f09c064bf3",
   "metadata": {},
   "outputs": [
    {
     "data": {
      "text/html": [
       "<div>\n",
       "<style scoped>\n",
       "    .dataframe tbody tr th:only-of-type {\n",
       "        vertical-align: middle;\n",
       "    }\n",
       "\n",
       "    .dataframe tbody tr th {\n",
       "        vertical-align: top;\n",
       "    }\n",
       "\n",
       "    .dataframe thead th {\n",
       "        text-align: right;\n",
       "    }\n",
       "</style>\n",
       "<table border=\"1\" class=\"dataframe\">\n",
       "  <thead>\n",
       "    <tr style=\"text-align: right;\">\n",
       "      <th></th>\n",
       "      <th>Name</th>\n",
       "      <th>Gender</th>\n",
       "      <th>EthnicGroup</th>\n",
       "      <th>MathScore</th>\n",
       "      <th>ReadingScore</th>\n",
       "      <th>WritingScore</th>\n",
       "    </tr>\n",
       "  </thead>\n",
       "  <tbody>\n",
       "    <tr>\n",
       "      <th>0</th>\n",
       "      <td>Sushma</td>\n",
       "      <td>female</td>\n",
       "      <td>NaN</td>\n",
       "      <td>71.0</td>\n",
       "      <td>71.0</td>\n",
       "      <td>74.0</td>\n",
       "    </tr>\n",
       "    <tr>\n",
       "      <th>1</th>\n",
       "      <td>Binisha</td>\n",
       "      <td>female</td>\n",
       "      <td>group C</td>\n",
       "      <td>69.0</td>\n",
       "      <td>90.0</td>\n",
       "      <td>88.0</td>\n",
       "    </tr>\n",
       "    <tr>\n",
       "      <th>2</th>\n",
       "      <td>Sabana</td>\n",
       "      <td>female</td>\n",
       "      <td>group B</td>\n",
       "      <td>87.0</td>\n",
       "      <td>93.0</td>\n",
       "      <td>91.0</td>\n",
       "    </tr>\n",
       "    <tr>\n",
       "      <th>3</th>\n",
       "      <td>Amar</td>\n",
       "      <td>male</td>\n",
       "      <td>group A</td>\n",
       "      <td>45.0</td>\n",
       "      <td>56.0</td>\n",
       "      <td>42.0</td>\n",
       "    </tr>\n",
       "    <tr>\n",
       "      <th>4</th>\n",
       "      <td>Sanjay</td>\n",
       "      <td>male</td>\n",
       "      <td>group C</td>\n",
       "      <td>76.0</td>\n",
       "      <td>78.0</td>\n",
       "      <td>75.0</td>\n",
       "    </tr>\n",
       "  </tbody>\n",
       "</table>\n",
       "</div>"
      ],
      "text/plain": [
       "      Name  Gender EthnicGroup  MathScore  ReadingScore  WritingScore\n",
       "0   Sushma  female         NaN       71.0          71.0          74.0\n",
       "1  Binisha  female     group C       69.0          90.0          88.0\n",
       "2   Sabana  female     group B       87.0          93.0          91.0\n",
       "3     Amar    male     group A       45.0          56.0          42.0\n",
       "4   Sanjay    male     group C       76.0          78.0          75.0"
      ]
     },
     "execution_count": 9,
     "metadata": {},
     "output_type": "execute_result"
    }
   ],
   "source": [
    "# First Step of Inspection\n",
    "df.head()"
   ]
  },
  {
   "cell_type": "code",
   "execution_count": 10,
   "id": "04e8fa24-9f6e-4bfa-83f2-75bc6b326b82",
   "metadata": {},
   "outputs": [
    {
     "data": {
      "text/html": [
       "<div>\n",
       "<style scoped>\n",
       "    .dataframe tbody tr th:only-of-type {\n",
       "        vertical-align: middle;\n",
       "    }\n",
       "\n",
       "    .dataframe tbody tr th {\n",
       "        vertical-align: top;\n",
       "    }\n",
       "\n",
       "    .dataframe thead th {\n",
       "        text-align: right;\n",
       "    }\n",
       "</style>\n",
       "<table border=\"1\" class=\"dataframe\">\n",
       "  <thead>\n",
       "    <tr style=\"text-align: right;\">\n",
       "      <th></th>\n",
       "      <th>Name</th>\n",
       "      <th>Gender</th>\n",
       "      <th>EthnicGroup</th>\n",
       "      <th>MathScore</th>\n",
       "      <th>ReadingScore</th>\n",
       "      <th>WritingScore</th>\n",
       "    </tr>\n",
       "  </thead>\n",
       "  <tbody>\n",
       "    <tr>\n",
       "      <th>24</th>\n",
       "      <td>Arjit</td>\n",
       "      <td>male</td>\n",
       "      <td>group D</td>\n",
       "      <td>NaN</td>\n",
       "      <td>71.0</td>\n",
       "      <td>80.0</td>\n",
       "    </tr>\n",
       "    <tr>\n",
       "      <th>25</th>\n",
       "      <td>Manash</td>\n",
       "      <td>male</td>\n",
       "      <td>group A</td>\n",
       "      <td>75.0</td>\n",
       "      <td>NaN</td>\n",
       "      <td>76.0</td>\n",
       "    </tr>\n",
       "    <tr>\n",
       "      <th>26</th>\n",
       "      <td>Aashutos</td>\n",
       "      <td>male</td>\n",
       "      <td>group B</td>\n",
       "      <td>66.0</td>\n",
       "      <td>53.0</td>\n",
       "      <td>53.0</td>\n",
       "    </tr>\n",
       "    <tr>\n",
       "      <th>27</th>\n",
       "      <td>Anjila</td>\n",
       "      <td>female</td>\n",
       "      <td>group C</td>\n",
       "      <td>69.0</td>\n",
       "      <td>70.0</td>\n",
       "      <td>76.0</td>\n",
       "    </tr>\n",
       "    <tr>\n",
       "      <th>28</th>\n",
       "      <td>Waisa</td>\n",
       "      <td>male</td>\n",
       "      <td>group C</td>\n",
       "      <td>70.0</td>\n",
       "      <td>70.0</td>\n",
       "      <td>65.0</td>\n",
       "    </tr>\n",
       "  </tbody>\n",
       "</table>\n",
       "</div>"
      ],
      "text/plain": [
       "        Name  Gender EthnicGroup  MathScore  ReadingScore  WritingScore\n",
       "24     Arjit    male     group D        NaN          71.0          80.0\n",
       "25    Manash    male     group A       75.0           NaN          76.0\n",
       "26  Aashutos    male     group B       66.0          53.0          53.0\n",
       "27    Anjila  female     group C       69.0          70.0          76.0\n",
       "28     Waisa    male     group C       70.0          70.0          65.0"
      ]
     },
     "execution_count": 10,
     "metadata": {},
     "output_type": "execute_result"
    }
   ],
   "source": [
    "# Second Step of Inspection\n",
    "df.tail()"
   ]
  },
  {
   "cell_type": "code",
   "execution_count": 11,
   "id": "dee861bf-31a4-4504-99c9-ec9c5367d52d",
   "metadata": {},
   "outputs": [
    {
     "data": {
      "text/html": [
       "<div>\n",
       "<style scoped>\n",
       "    .dataframe tbody tr th:only-of-type {\n",
       "        vertical-align: middle;\n",
       "    }\n",
       "\n",
       "    .dataframe tbody tr th {\n",
       "        vertical-align: top;\n",
       "    }\n",
       "\n",
       "    .dataframe thead th {\n",
       "        text-align: right;\n",
       "    }\n",
       "</style>\n",
       "<table border=\"1\" class=\"dataframe\">\n",
       "  <thead>\n",
       "    <tr style=\"text-align: right;\">\n",
       "      <th></th>\n",
       "      <th>MathScore</th>\n",
       "      <th>ReadingScore</th>\n",
       "      <th>WritingScore</th>\n",
       "    </tr>\n",
       "  </thead>\n",
       "  <tbody>\n",
       "    <tr>\n",
       "      <th>count</th>\n",
       "      <td>25.000000</td>\n",
       "      <td>25.00000</td>\n",
       "      <td>27.000000</td>\n",
       "    </tr>\n",
       "    <tr>\n",
       "      <th>mean</th>\n",
       "      <td>60.800000</td>\n",
       "      <td>67.80000</td>\n",
       "      <td>65.555556</td>\n",
       "    </tr>\n",
       "    <tr>\n",
       "      <th>std</th>\n",
       "      <td>16.653328</td>\n",
       "      <td>16.54791</td>\n",
       "      <td>15.829217</td>\n",
       "    </tr>\n",
       "    <tr>\n",
       "      <th>min</th>\n",
       "      <td>18.000000</td>\n",
       "      <td>32.00000</td>\n",
       "      <td>28.000000</td>\n",
       "    </tr>\n",
       "    <tr>\n",
       "      <th>25%</th>\n",
       "      <td>48.000000</td>\n",
       "      <td>56.00000</td>\n",
       "      <td>52.500000</td>\n",
       "    </tr>\n",
       "    <tr>\n",
       "      <th>50%</th>\n",
       "      <td>66.000000</td>\n",
       "      <td>71.00000</td>\n",
       "      <td>70.000000</td>\n",
       "    </tr>\n",
       "    <tr>\n",
       "      <th>75%</th>\n",
       "      <td>70.000000</td>\n",
       "      <td>78.00000</td>\n",
       "      <td>76.000000</td>\n",
       "    </tr>\n",
       "    <tr>\n",
       "      <th>max</th>\n",
       "      <td>88.000000</td>\n",
       "      <td>93.00000</td>\n",
       "      <td>91.000000</td>\n",
       "    </tr>\n",
       "  </tbody>\n",
       "</table>\n",
       "</div>"
      ],
      "text/plain": [
       "       MathScore  ReadingScore  WritingScore\n",
       "count  25.000000      25.00000     27.000000\n",
       "mean   60.800000      67.80000     65.555556\n",
       "std    16.653328      16.54791     15.829217\n",
       "min    18.000000      32.00000     28.000000\n",
       "25%    48.000000      56.00000     52.500000\n",
       "50%    66.000000      71.00000     70.000000\n",
       "75%    70.000000      78.00000     76.000000\n",
       "max    88.000000      93.00000     91.000000"
      ]
     },
     "execution_count": 11,
     "metadata": {},
     "output_type": "execute_result"
    }
   ],
   "source": [
    "# Third Step of Inspection\n",
    "df.describe()"
   ]
  },
  {
   "cell_type": "code",
   "execution_count": 12,
   "id": "1faefb69-ca8a-4d93-9d0e-c915ff76c34f",
   "metadata": {},
   "outputs": [
    {
     "name": "stdout",
     "output_type": "stream",
     "text": [
      "<class 'pandas.core.frame.DataFrame'>\n",
      "RangeIndex: 29 entries, 0 to 28\n",
      "Data columns (total 6 columns):\n",
      " #   Column        Non-Null Count  Dtype  \n",
      "---  ------        --------------  -----  \n",
      " 0   Name          29 non-null     object \n",
      " 1   Gender        29 non-null     object \n",
      " 2   EthnicGroup   28 non-null     object \n",
      " 3   MathScore     25 non-null     float64\n",
      " 4   ReadingScore  25 non-null     float64\n",
      " 5   WritingScore  27 non-null     float64\n",
      "dtypes: float64(3), object(3)\n",
      "memory usage: 1.5+ KB\n"
     ]
    }
   ],
   "source": [
    "# Fourth Step of Inspection\n",
    "df.info()"
   ]
  },
  {
   "cell_type": "code",
   "execution_count": 13,
   "id": "204b2c28-0629-4f72-a96a-6eeaebdae149",
   "metadata": {},
   "outputs": [
    {
     "name": "stdout",
     "output_type": "stream",
     "text": [
      "[[False False  True  True  True False]\n",
      " [False False False  True  True False]\n",
      " [False False False False False False]\n",
      " [False False  True False False False]\n",
      " [False False False False False False]\n",
      " [ True False  True  True False False]\n",
      " [ True False False False False False]\n",
      " [False False False False False False]\n",
      " [False False False False False False]\n",
      " [False False False False False False]\n",
      " [False False  True False False False]\n",
      " [False False False False False False]\n",
      " [False False False False False False]\n",
      " [False  True False False False False]\n",
      " [False False False False False False]\n",
      " [False False False False False False]\n",
      " [False False False False False False]\n",
      " [False False False False False False]\n",
      " [False False False False False False]\n",
      " [False False False False False False]\n",
      " [False False False False False False]\n",
      " [False False False False  True False]\n",
      " [ True False  True False False  True]\n",
      " [False False False False  True False]\n",
      " [False False  True False False False]\n",
      " [ True False False False False False]\n",
      " [False False False False False False]\n",
      " [False False  True False False False]\n",
      " [False False False False False False]]\n"
     ]
    }
   ],
   "source": [
    "# For missing Value\n",
    "mask=np.random.rand(*df.shape) < 0.1\n",
    "print(mask)\n",
    "df[mask]=np.nan"
   ]
  },
  {
   "cell_type": "code",
   "execution_count": 14,
   "id": "b6cb7866-216f-429d-9776-c95cf1341d4b",
   "metadata": {},
   "outputs": [
    {
     "name": "stdout",
     "output_type": "stream",
     "text": [
      "        Name  Gender EthnicGroup  MathScore  ReadingScore  WritingScore\n",
      "0     Sushma  female         NaN        NaN           NaN          74.0\n",
      "1    Binisha  female     group C        NaN           NaN          88.0\n",
      "2     Sabana  female     group B       87.0          93.0          91.0\n",
      "3       Amar    male         NaN       45.0          56.0          42.0\n",
      "4     Sanjay    male     group C       76.0          78.0          75.0\n",
      "5        NaN  female         NaN        NaN          84.0          79.0\n",
      "6        NaN  female     group B        NaN          93.0          89.0\n",
      "7    Washton    male     group B       41.0          43.0           NaN\n",
      "8     Yograj    male     group D       65.0          64.0          68.0\n",
      "9     Ragini  female     group B       37.0          59.0          50.0\n",
      "10    Naresh    male         NaN       58.0           NaN          52.0\n",
      "11     Arpan    male     group D       40.0          52.0          43.0\n",
      "12      Sima  female     group B       66.0          82.0          74.0\n",
      "13     Pawan     NaN     group A        NaN          73.0          71.0\n",
      "14     Rinku  female     group A       48.0           NaN          58.0\n",
      "15    Khushi  female     group C       69.0          75.0          78.0\n",
      "16     Krish    male     group C       88.0          89.0           NaN\n",
      "17     Komal  female     group B       18.0          32.0          28.0\n",
      "18   Aditya     male     group C        NaN          42.0          47.0\n",
      "19      Rima  female     group C       50.0          56.0          58.0\n",
      "20     Arbaj    male     group D       66.0           NaN          63.0\n",
      "21    Amrita  female     group B       65.0           NaN          70.0\n",
      "22       NaN    male         NaN       42.0          53.0           NaN\n",
      "23    Arpita  female     group C       66.0           NaN          71.0\n",
      "24     Arjit    male         NaN        NaN          71.0          80.0\n",
      "25       NaN    male     group A       75.0           NaN          76.0\n",
      "26  Aashutos    male     group B       66.0          53.0          53.0\n",
      "27    Anjila  female         NaN       69.0          70.0          76.0\n",
      "28     Waisa    male     group C       70.0          70.0          65.0\n"
     ]
    }
   ],
   "source": [
    "print(df)"
   ]
  },
  {
   "cell_type": "code",
   "execution_count": 15,
   "id": "8b38c2f0-5f69-4059-abae-5017229550aa",
   "metadata": {},
   "outputs": [
    {
     "data": {
      "text/plain": [
       "Name            True\n",
       "Gender          True\n",
       "EthnicGroup     True\n",
       "MathScore       True\n",
       "ReadingScore    True\n",
       "WritingScore    True\n",
       "dtype: bool"
      ]
     },
     "execution_count": 15,
     "metadata": {},
     "output_type": "execute_result"
    }
   ],
   "source": [
    "# Checking the missing value if there are any or not.\n",
    "df.isnull().any()"
   ]
  },
  {
   "cell_type": "code",
   "execution_count": 16,
   "id": "a4b76cc9-6c60-486b-86a2-5fdc90c3e031",
   "metadata": {},
   "outputs": [
    {
     "data": {
      "text/plain": [
       "Name            4\n",
       "Gender          1\n",
       "EthnicGroup     7\n",
       "MathScore       7\n",
       "ReadingScore    8\n",
       "WritingScore    3\n",
       "dtype: int64"
      ]
     },
     "execution_count": 16,
     "metadata": {},
     "output_type": "execute_result"
    }
   ],
   "source": [
    "# Checking missing value in the column.\n",
    "df.isnull().sum() # Column wise"
   ]
  },
  {
   "cell_type": "code",
   "execution_count": 17,
   "id": "895dd861-73dc-4429-880a-a91e95b55dce",
   "metadata": {},
   "outputs": [
    {
     "name": "stdout",
     "output_type": "stream",
     "text": [
      "\n",
      " The total number of missing value is:  30\n"
     ]
    }
   ],
   "source": [
    "# Counting the number of Missing value on the dataset.\n",
    "DF=df.isnull().sum().sum() # df entire dataframe sum\n",
    "print(\"\\n The total number of missing value is: \",DF)"
   ]
  },
  {
   "cell_type": "code",
   "execution_count": 18,
   "id": "b9d213ad-fc65-4530-a298-e656429dce84",
   "metadata": {},
   "outputs": [],
   "source": [
    "# For MathScore fill missing values with MEAN\n",
    "# df[\"MathScore\"] = df[\"MathScore\"].fillna(df[\"MathScore\"].mean())\n",
    "# For ReadingScore fill missing values with MEAN\n",
    "# df[\"ReadingScore\"] = df[\"ReadingScore\"].fillna(df[\"ReadingScore\"].mean())\n",
    "# For WritingScore fill missing values with MEDIAN\n",
    "# df[\"WritingScore\"] = df[\"WritingScore\"].fillna(df[\"WritingScore\"].median())\n",
    "# For Gender fill missing values with MODE (most frequent value)\n",
    "# df[\"EthicGroup\"] = df[\"EthnicGroup\"].fillna(df[\"EthnicGroup\"].mode()[0])\n",
    "#print(df)"
   ]
  },
  {
   "cell_type": "code",
   "execution_count": 19,
   "id": "67694958-b343-4ff2-9f73-5b1558633c52",
   "metadata": {},
   "outputs": [
    {
     "name": "stdout",
     "output_type": "stream",
     "text": [
      "        Name  Gender EthnicGroup  MathScore  ReadingScore  WritingScore\n",
      "0     Sushma  female         NaN  59.409091           NaN          74.0\n",
      "1    Binisha  female     group C  59.409091           NaN          88.0\n",
      "2     Sabana  female     group B  87.000000          93.0          91.0\n",
      "3       Amar    male         NaN  45.000000          56.0          42.0\n",
      "4     Sanjay    male     group C  76.000000          78.0          75.0\n",
      "5        NaN  female         NaN  59.409091          84.0          79.0\n",
      "6        NaN  female     group B  59.409091          93.0          89.0\n",
      "7    Washton    male     group B  41.000000          43.0           NaN\n",
      "8     Yograj    male     group D  65.000000          64.0          68.0\n",
      "9     Ragini  female     group B  37.000000          59.0          50.0\n",
      "10    Naresh    male         NaN  58.000000           NaN          52.0\n",
      "11     Arpan    male     group D  40.000000          52.0          43.0\n",
      "12      Sima  female     group B  66.000000          82.0          74.0\n",
      "13     Pawan     NaN     group A  59.409091          73.0          71.0\n",
      "14     Rinku  female     group A  48.000000           NaN          58.0\n",
      "15    Khushi  female     group C  69.000000          75.0          78.0\n",
      "16     Krish    male     group C  88.000000          89.0           NaN\n",
      "17     Komal  female     group B  18.000000          32.0          28.0\n",
      "18   Aditya     male     group C  59.409091          42.0          47.0\n",
      "19      Rima  female     group C  50.000000          56.0          58.0\n",
      "20     Arbaj    male     group D  66.000000           NaN          63.0\n",
      "21    Amrita  female     group B  65.000000           NaN          70.0\n",
      "22       NaN    male         NaN  42.000000          53.0           NaN\n",
      "23    Arpita  female     group C  66.000000           NaN          71.0\n",
      "24     Arjit    male         NaN  59.409091          71.0          80.0\n",
      "25       NaN    male     group A  75.000000           NaN          76.0\n",
      "26  Aashutos    male     group B  66.000000          53.0          53.0\n",
      "27    Anjila  female         NaN  69.000000          70.0          76.0\n",
      "28     Waisa    male     group C  70.000000          70.0          65.0\n"
     ]
    }
   ],
   "source": [
    "# Data imputation or Handling missing values using fillna\n",
    "#--> Categorial columns - mode fill ... Numerical columns = mean, median fill\n",
    "# --> DO NOT USE THIS -->dropna methods to drop rows with at least one empty cell \n",
    "# For MathScore for fill missing values with mean\n",
    "df[\"MathScore\"] = df[\"MathScore\"].fillna(df[\"MathScore\"].mean())\n",
    "print(df)"
   ]
  },
  {
   "cell_type": "code",
   "execution_count": 20,
   "id": "8c29b457-f54e-42ad-b15a-d8976aefc19d",
   "metadata": {},
   "outputs": [
    {
     "name": "stdout",
     "output_type": "stream",
     "text": [
      "        Name  Gender EthnicGroup  MathScore  ReadingScore  WritingScore\n",
      "0     Sushma  female         NaN  59.409091           NaN          74.0\n",
      "1    Binisha  female     group C  59.409091           NaN          88.0\n",
      "2     Sabana  female     group B  87.000000          93.0          91.0\n",
      "3       Amar    male         NaN  45.000000          56.0          42.0\n",
      "4     Sanjay    male     group C  76.000000          78.0          75.0\n",
      "5        NaN  female         NaN  59.409091          84.0          79.0\n",
      "6        NaN  female     group B  59.409091          93.0          89.0\n",
      "7    Washton    male     group B  41.000000          43.0           NaN\n",
      "8     Yograj    male     group D  65.000000          64.0          68.0\n",
      "9     Ragini  female     group B  37.000000          59.0          50.0\n",
      "10    Naresh    male         NaN  58.000000           NaN          52.0\n",
      "11     Arpan    male     group D  40.000000          52.0          43.0\n",
      "12      Sima  female     group B  66.000000          82.0          74.0\n",
      "13     Pawan     NaN     group A  59.409091          73.0          71.0\n",
      "14     Rinku  female     group A  48.000000           NaN          58.0\n",
      "15    Khushi  female     group C  69.000000          75.0          78.0\n",
      "16     Krish    male     group C  88.000000          89.0           NaN\n",
      "17     Komal  female     group B  18.000000          32.0          28.0\n",
      "18   Aditya     male     group C  59.409091          42.0          47.0\n",
      "19      Rima  female     group C  50.000000          56.0          58.0\n",
      "20     Arbaj    male     group D  66.000000           NaN          63.0\n",
      "21    Amrita  female     group B  65.000000           NaN          70.0\n",
      "22       NaN    male         NaN  42.000000          53.0           NaN\n",
      "23    Arpita  female     group C  66.000000           NaN          71.0\n",
      "24     Arjit    male         NaN  59.409091          71.0          80.0\n",
      "25       NaN    male     group A  75.000000           NaN          76.0\n",
      "26  Aashutos    male     group B  66.000000          53.0          53.0\n",
      "27    Anjila  female         NaN  69.000000          70.0          76.0\n",
      "28     Waisa    male     group C  70.000000          70.0          65.0\n"
     ]
    }
   ],
   "source": [
    "# For ReadingScore for fill missing values with median\n",
    "df[\"MathScore\"] = df[\"MathScore\"].fillna(df[\"MathScore\"].median())\n",
    "print(df)"
   ]
  },
  {
   "cell_type": "code",
   "execution_count": 21,
   "id": "029368ab-d7fe-4aca-a686-a131f8adeb22",
   "metadata": {},
   "outputs": [
    {
     "name": "stdout",
     "output_type": "stream",
     "text": [
      "        Name  Gender EthnicGroup  MathScore  ReadingScore  WritingScore\n",
      "0     Sushma  female         NaN  59.409091          70.0          74.0\n",
      "1    Binisha  female     group C  59.409091          70.0          88.0\n",
      "2     Sabana  female     group B  87.000000          93.0          91.0\n",
      "3       Amar    male         NaN  45.000000          56.0          42.0\n",
      "4     Sanjay    male     group C  76.000000          78.0          75.0\n",
      "5        NaN  female         NaN  59.409091          84.0          79.0\n",
      "6        NaN  female     group B  59.409091          93.0          89.0\n",
      "7    Washton    male     group B  41.000000          43.0           NaN\n",
      "8     Yograj    male     group D  65.000000          64.0          68.0\n",
      "9     Ragini  female     group B  37.000000          59.0          50.0\n",
      "10    Naresh    male         NaN  58.000000          70.0          52.0\n",
      "11     Arpan    male     group D  40.000000          52.0          43.0\n",
      "12      Sima  female     group B  66.000000          82.0          74.0\n",
      "13     Pawan     NaN     group A  59.409091          73.0          71.0\n",
      "14     Rinku  female     group A  48.000000          70.0          58.0\n",
      "15    Khushi  female     group C  69.000000          75.0          78.0\n",
      "16     Krish    male     group C  88.000000          89.0           NaN\n",
      "17     Komal  female     group B  18.000000          32.0          28.0\n",
      "18   Aditya     male     group C  59.409091          42.0          47.0\n",
      "19      Rima  female     group C  50.000000          56.0          58.0\n",
      "20     Arbaj    male     group D  66.000000          70.0          63.0\n",
      "21    Amrita  female     group B  65.000000          70.0          70.0\n",
      "22       NaN    male         NaN  42.000000          53.0           NaN\n",
      "23    Arpita  female     group C  66.000000          70.0          71.0\n",
      "24     Arjit    male         NaN  59.409091          71.0          80.0\n",
      "25       NaN    male     group A  75.000000          70.0          76.0\n",
      "26  Aashutos    male     group B  66.000000          53.0          53.0\n",
      "27    Anjila  female         NaN  69.000000          70.0          76.0\n",
      "28     Waisa    male     group C  70.000000          70.0          65.0\n"
     ]
    }
   ],
   "source": [
    "# For ReadingScore for fill missing values with median\n",
    "df[\"ReadingScore\"] = df[\"ReadingScore\"].fillna(df[\"ReadingScore\"].median())\n",
    "print(df)"
   ]
  },
  {
   "cell_type": "code",
   "execution_count": 22,
   "id": "6e663261-3bd9-44d7-b700-6b537f9741d0",
   "metadata": {},
   "outputs": [
    {
     "name": "stdout",
     "output_type": "stream",
     "text": [
      "        Name  Gender EthnicGroup  MathScore  ReadingScore  WritingScore\n",
      "0     Sushma  female         NaN  59.409091          70.0          74.0\n",
      "1    Binisha  female     group C  59.409091          70.0          88.0\n",
      "2     Sabana  female     group B  87.000000          93.0          91.0\n",
      "3       Amar    male         NaN  45.000000          56.0          42.0\n",
      "4     Sanjay    male     group C  76.000000          78.0          75.0\n",
      "5        NaN  female         NaN  59.409091          84.0          79.0\n",
      "6        NaN  female     group B  59.409091          93.0          89.0\n",
      "7    Washton    male     group B  41.000000          43.0           NaN\n",
      "8     Yograj    male     group D  65.000000          64.0          68.0\n",
      "9     Ragini  female     group B  37.000000          59.0          50.0\n",
      "10    Naresh    male         NaN  58.000000          70.0          52.0\n",
      "11     Arpan    male     group D  40.000000          52.0          43.0\n",
      "12      Sima  female     group B  66.000000          82.0          74.0\n",
      "13     Pawan     NaN     group A  59.409091          73.0          71.0\n",
      "14     Rinku  female     group A  48.000000          70.0          58.0\n",
      "15    Khushi  female     group C  69.000000          75.0          78.0\n",
      "16     Krish    male     group C  88.000000          89.0           NaN\n",
      "17     Komal  female     group B  18.000000          32.0          28.0\n",
      "18   Aditya     male     group C  59.409091          42.0          47.0\n",
      "19      Rima  female     group C  50.000000          56.0          58.0\n",
      "20     Arbaj    male     group D  66.000000          70.0          63.0\n",
      "21    Amrita  female     group B  65.000000          70.0          70.0\n",
      "22       NaN    male         NaN  42.000000          53.0           NaN\n",
      "23    Arpita  female     group C  66.000000          70.0          71.0\n",
      "24     Arjit    male         NaN  59.409091          71.0          80.0\n",
      "25       NaN    male     group A  75.000000          70.0          76.0\n",
      "26  Aashutos    male     group B  66.000000          53.0          53.0\n",
      "27    Anjila  female         NaN  69.000000          70.0          76.0\n",
      "28     Waisa    male     group C  70.000000          70.0          65.0\n"
     ]
    }
   ],
   "source": [
    "# For ReadingScore for fill missing values with mean\n",
    "df[\"ReadingScore\"] = df[\"ReadingScore\"].fillna(df[\"ReadingScore\"].mean())\n",
    "print(df)"
   ]
  },
  {
   "cell_type": "code",
   "execution_count": 23,
   "id": "9517627d-b8dd-403c-be98-8f7b1695d19a",
   "metadata": {},
   "outputs": [
    {
     "name": "stdout",
     "output_type": "stream",
     "text": [
      "0    group B\n",
      "1    group C\n",
      "Name: EthnicGroup, dtype: object\n"
     ]
    }
   ],
   "source": [
    "print(df[\"EthnicGroup\"].mode())"
   ]
  },
  {
   "cell_type": "code",
   "execution_count": 24,
   "id": "f595b965-3935-4309-ab03-207feee86086",
   "metadata": {},
   "outputs": [
    {
     "name": "stdout",
     "output_type": "stream",
     "text": [
      "        Name  Gender EthnicGroup  MathScore  ReadingScore  WritingScore\n",
      "0     Sushma  female     group B  59.409091          70.0          74.0\n",
      "1    Binisha  female     group C  59.409091          70.0          88.0\n",
      "2     Sabana  female     group B  87.000000          93.0          91.0\n",
      "3       Amar    male     group B  45.000000          56.0          42.0\n",
      "4     Sanjay    male     group C  76.000000          78.0          75.0\n",
      "5        NaN  female     group B  59.409091          84.0          79.0\n",
      "6        NaN  female     group B  59.409091          93.0          89.0\n",
      "7    Washton    male     group B  41.000000          43.0           NaN\n",
      "8     Yograj    male     group D  65.000000          64.0          68.0\n",
      "9     Ragini  female     group B  37.000000          59.0          50.0\n",
      "10    Naresh    male     group B  58.000000          70.0          52.0\n",
      "11     Arpan    male     group D  40.000000          52.0          43.0\n",
      "12      Sima  female     group B  66.000000          82.0          74.0\n",
      "13     Pawan     NaN     group A  59.409091          73.0          71.0\n",
      "14     Rinku  female     group A  48.000000          70.0          58.0\n",
      "15    Khushi  female     group C  69.000000          75.0          78.0\n",
      "16     Krish    male     group C  88.000000          89.0           NaN\n",
      "17     Komal  female     group B  18.000000          32.0          28.0\n",
      "18   Aditya     male     group C  59.409091          42.0          47.0\n",
      "19      Rima  female     group C  50.000000          56.0          58.0\n",
      "20     Arbaj    male     group D  66.000000          70.0          63.0\n",
      "21    Amrita  female     group B  65.000000          70.0          70.0\n",
      "22       NaN    male     group B  42.000000          53.0           NaN\n",
      "23    Arpita  female     group C  66.000000          70.0          71.0\n",
      "24     Arjit    male     group B  59.409091          71.0          80.0\n",
      "25       NaN    male     group A  75.000000          70.0          76.0\n",
      "26  Aashutos    male     group B  66.000000          53.0          53.0\n",
      "27    Anjila  female     group B  69.000000          70.0          76.0\n",
      "28     Waisa    male     group C  70.000000          70.0          65.0\n"
     ]
    }
   ],
   "source": [
    "df[\"EthnicGroup\"] = df[\"EthnicGroup\"].fillna(df[\"EthnicGroup\"].mode()[0])\n",
    "print(df)"
   ]
  },
  {
   "cell_type": "code",
   "execution_count": 25,
   "id": "51498bf6-ae8c-4339-a61c-31bf889ff061",
   "metadata": {},
   "outputs": [
    {
     "name": "stdout",
     "output_type": "stream",
     "text": [
      "        Name  Gender EthnicGroup  MathScore  ReadingScore  WritingScore\n",
      "0     Sushma  female     group B  59.409091          70.0          74.0\n",
      "1    Binisha  female     group C  59.409091          70.0          88.0\n",
      "2     Sabana  female     group B  87.000000          93.0          91.0\n",
      "3       Amar    male     group B  45.000000          56.0          42.0\n",
      "4     Sanjay    male     group C  76.000000          78.0          75.0\n",
      "5        NaN  female     group B  59.409091          84.0          79.0\n",
      "6        NaN  female     group B  59.409091          93.0          89.0\n",
      "7    Washton    male     group B  41.000000          43.0           NaN\n",
      "8     Yograj    male     group D  65.000000          64.0          68.0\n",
      "9     Ragini  female     group B  37.000000          59.0          50.0\n",
      "10    Naresh    male     group B  58.000000          70.0          52.0\n",
      "11     Arpan    male     group D  40.000000          52.0          43.0\n",
      "12      Sima  female     group B  66.000000          82.0          74.0\n",
      "13     Pawan     NaN     group A  59.409091          73.0          71.0\n",
      "14     Rinku  female     group A  48.000000          70.0          58.0\n",
      "15    Khushi  female     group C  69.000000          75.0          78.0\n",
      "16     Krish    male     group C  88.000000          89.0           NaN\n",
      "17     Komal  female     group B  18.000000          32.0          28.0\n",
      "18   Aditya     male     group C  59.409091          42.0          47.0\n",
      "19      Rima  female     group C  50.000000          56.0          58.0\n",
      "20     Arbaj    male     group D  66.000000          70.0          63.0\n",
      "21    Amrita  female     group B  65.000000          70.0          70.0\n",
      "22       NaN    male     group B  42.000000          53.0           NaN\n",
      "23    Arpita  female     group C  66.000000          70.0          71.0\n",
      "24     Arjit    male     group B  59.409091          71.0          80.0\n",
      "25       NaN    male     group A  75.000000          70.0          76.0\n",
      "26  Aashutos    male     group B  66.000000          53.0          53.0\n",
      "27    Anjila  female     group B  69.000000          70.0          76.0\n",
      "28     Waisa    male     group C  70.000000          70.0          65.0\n",
      "\n",
      " Filtered row is of MathScore greater than 70. \n",
      "        Name  Gender EthnicGroup  MathScore  ReadingScore  WritingScore\n",
      "2   Sabana  female     group B       87.0          93.0          91.0\n",
      "4   Sanjay    male     group C       76.0          78.0          75.0\n",
      "16   Krish    male     group C       88.0          89.0           NaN\n",
      "25     NaN    male     group A       75.0          70.0          76.0\n"
     ]
    }
   ],
   "source": [
    "#Choose a filter of your own choice. For eg selecting some rows greater or less than a value\n",
    "# For MathScore\n",
    "print(df)\n",
    "filtered=df[df[\"MathScore\"]>70]\n",
    "print(\"\\n Filtered row is of MathScore greater than 70. \\n \",filtered)"
   ]
  },
  {
   "cell_type": "code",
   "execution_count": 26,
   "id": "e1a19a36-b9be-420d-b260-21a6a5d43b83",
   "metadata": {},
   "outputs": [
    {
     "name": "stdout",
     "output_type": "stream",
     "text": [
      "        Name Gender EthnicGroup  MathScore  ReadingScore  WritingScore\n",
      "3       Amar   male     group B  45.000000          56.0          42.0\n",
      "4     Sanjay   male     group C  76.000000          78.0          75.0\n",
      "7    Washton   male     group B  41.000000          43.0           NaN\n",
      "8     Yograj   male     group D  65.000000          64.0          68.0\n",
      "10    Naresh   male     group B  58.000000          70.0          52.0\n",
      "11     Arpan   male     group D  40.000000          52.0          43.0\n",
      "16     Krish   male     group C  88.000000          89.0           NaN\n",
      "18   Aditya    male     group C  59.409091          42.0          47.0\n",
      "20     Arbaj   male     group D  66.000000          70.0          63.0\n",
      "22       NaN   male     group B  42.000000          53.0           NaN\n",
      "24     Arjit   male     group B  59.409091          71.0          80.0\n",
      "25       NaN   male     group A  75.000000          70.0          76.0\n",
      "26  Aashutos   male     group B  66.000000          53.0          53.0\n",
      "28     Waisa   male     group C  70.000000          70.0          65.0\n"
     ]
    }
   ],
   "source": [
    "#Selecting a categorical value with some particular objects\n",
    "filtered=df[df[\"Gender\"]==\"male\"]\n",
    "print(filtered)"
   ]
  },
  {
   "cell_type": "code",
   "execution_count": 27,
   "id": "56444676-15a8-4f92-a6a1-62256d54d79d",
   "metadata": {},
   "outputs": [
    {
     "name": "stdout",
     "output_type": "stream",
     "text": [
      "\n",
      "Female students with ReadingScore greater than 60:\n",
      "        Name  Gender EthnicGroup  MathScore  ReadingScore  WritingScore\n",
      "0    Sushma  female     group B  59.409091          70.0          74.0\n",
      "1   Binisha  female     group C  59.409091          70.0          88.0\n",
      "2    Sabana  female     group B  87.000000          93.0          91.0\n",
      "5       NaN  female     group B  59.409091          84.0          79.0\n",
      "6       NaN  female     group B  59.409091          93.0          89.0\n",
      "12     Sima  female     group B  66.000000          82.0          74.0\n",
      "14    Rinku  female     group A  48.000000          70.0          58.0\n",
      "15   Khushi  female     group C  69.000000          75.0          78.0\n",
      "21   Amrita  female     group B  65.000000          70.0          70.0\n",
      "23   Arpita  female     group C  66.000000          70.0          71.0\n",
      "27   Anjila  female     group B  69.000000          70.0          76.0\n",
      "\n",
      "Average of Science column: 66.11538461538461\n",
      "\n",
      " The row whose value is greater than its average.\n",
      "        Name  Gender EthnicGroup  MathScore  ReadingScore  WritingScore\n",
      "0    Sushma  female     group B  59.409091          70.0          74.0\n",
      "1   Binisha  female     group C  59.409091          70.0          88.0\n",
      "2    Sabana  female     group B  87.000000          93.0          91.0\n",
      "4    Sanjay    male     group C  76.000000          78.0          75.0\n",
      "5       NaN  female     group B  59.409091          84.0          79.0\n",
      "6       NaN  female     group B  59.409091          93.0          89.0\n",
      "8    Yograj    male     group D  65.000000          64.0          68.0\n",
      "12     Sima  female     group B  66.000000          82.0          74.0\n",
      "13    Pawan     NaN     group A  59.409091          73.0          71.0\n",
      "15   Khushi  female     group C  69.000000          75.0          78.0\n",
      "21   Amrita  female     group B  65.000000          70.0          70.0\n",
      "23   Arpita  female     group C  66.000000          70.0          71.0\n",
      "24    Arjit    male     group B  59.409091          71.0          80.0\n",
      "25      NaN    male     group A  75.000000          70.0          76.0\n",
      "27   Anjila  female     group B  69.000000          70.0          76.0\n"
     ]
    }
   ],
   "source": [
    "# Use at least one multiple filter\n",
    "filtered = df[(df[\"Gender\"] == \"female\") & (df[\"ReadingScore\"] > 60)]\n",
    "print(\"\\nFemale students with ReadingScore greater than 60:\\n\", filtered)\n",
    "\n",
    "# Average of WritingScore\n",
    "avg = df['WritingScore'].mean()\n",
    "print(\"\\nAverage of Science column:\",avg)\n",
    "filtered = df[df['WritingScore'] > df[\"WritingScore\"].mean()]\n",
    "print(\"\\n The row whose value is greater than its average.\\n\",filtered)"
   ]
  },
  {
   "cell_type": "code",
   "execution_count": 28,
   "id": "4215b01c-ca67-4e76-a362-4be9c37a752a",
   "metadata": {},
   "outputs": [],
   "source": [
    "#Advanced data aggregations-->use groupby methods to calculate basic statistics of numerical/categorical columns\n",
    "                                    # of your own choice based on groups of categorical columns."
   ]
  },
  {
   "cell_type": "code",
   "execution_count": 29,
   "id": "5c10d4dc-06b1-47c7-be1e-0d47c08153ea",
   "metadata": {},
   "outputs": [],
   "source": [
    "# Use groubby Method to calculate basic statistics of numerical/categorical column.\n"
   ]
  },
  {
   "cell_type": "code",
   "execution_count": 30,
   "id": "97896349-e5be-4c3e-a4ec-d878f6e43abd",
   "metadata": {},
   "outputs": [
    {
     "name": "stdout",
     "output_type": "stream",
     "text": [
      "EthnicGroup\n",
      "group A    60.803030\n",
      "group B    55.442424\n",
      "group C    67.227273\n",
      "group D    57.000000\n",
      "Name: MathScore, dtype: float64\n"
     ]
    }
   ],
   "source": [
    "# Groupby\n",
    "filtered=df.groupby(\"EthnicGroup\")[\"MathScore\"].mean()\n",
    "print(filtered)"
   ]
  },
  {
   "cell_type": "code",
   "execution_count": 58,
   "id": "dd928d45-ff0c-4720-a3a8-fc10e78bfe79",
   "metadata": {},
   "outputs": [
    {
     "name": "stdout",
     "output_type": "stream",
     "text": [
      "Gender\n",
      "female    71.000000\n",
      "male      62.928571\n",
      "Name: ReadingScore, dtype: float64\n"
     ]
    }
   ],
   "source": [
    "# Can find the mean of ReadingScore by using groupby by groupping Gender.\n",
    "filtered=df.groupby(\"Gender\")[\"ReadingScore\"].mean()\n",
    "print(filtered)"
   ]
  },
  {
   "cell_type": "code",
   "execution_count": 62,
   "id": "107c619f-f926-4e8d-9eee-c593afdcc7ab",
   "metadata": {},
   "outputs": [
    {
     "name": "stdout",
     "output_type": "stream",
     "text": [
      "Gender\n",
      "female    91.0\n",
      "male      80.0\n",
      "Name: WritingScore, dtype: float64\n"
     ]
    }
   ],
   "source": [
    "# Can you find the maximum values in WritingScore obtained by each gender.\n",
    "filtered=df.groupby(\"Gender\")[\"WritingScore\"].max()\n",
    "print(filtered)"
   ]
  },
  {
   "cell_type": "code",
   "execution_count": 64,
   "id": "0b109515-443b-41a1-84ba-88bbf8b1b8bb",
   "metadata": {},
   "outputs": [
    {
     "name": "stdout",
     "output_type": "stream",
     "text": [
      "Gender\n",
      "female    15.615574\n",
      "male      13.510476\n",
      "Name: ReadingScore, dtype: float64\n"
     ]
    }
   ],
   "source": [
    "# Can you find standard deviation of ReadingScore of each gender.\n",
    "filtered=df.groupby(\"Gender\")[\"ReadingScore\"].std()\n",
    "print(filtered)"
   ]
  },
  {
   "cell_type": "code",
   "execution_count": 76,
   "id": "260a468a-3dac-4b6e-9c02-02db8125322c",
   "metadata": {},
   "outputs": [
    {
     "name": "stdout",
     "output_type": "stream",
     "text": [
      "     Name EthnicGroup\n",
      "2  Sabana     group B\n",
      "6     NaN     group B\n"
     ]
    }
   ],
   "source": [
    "# Display the Name of the student who have score hightest in ReadingScore.\n",
    "# print(df.loc[df[\"Science\"].idmax(),[\"Name\",\"EthnicGroup\"]])\n",
    "filtered_max=df.loc[df[\"ReadingScore\"]==df[\"ReadingScore\"].max(),[\"Name\",\"EthnicGroup\"]]\n",
    "print(filtered_max)"
   ]
  },
  {
   "cell_type": "code",
   "execution_count": 78,
   "id": "c6309ab1-8cb9-4c17-8517-c908c72d49ee",
   "metadata": {},
   "outputs": [
    {
     "name": "stdout",
     "output_type": "stream",
     "text": [
      "                    MathScore WritingScore      \n",
      "                         mean         mean   max\n",
      "EthnicGroup Gender                              \n",
      "group A     female  48.000000    58.000000  58.0\n",
      "            male    75.000000    76.000000  76.0\n",
      "group B     female  57.803030    70.111111  91.0\n",
      "            male    51.901515    56.750000  80.0\n",
      "group C     female  61.102273    73.750000  88.0\n",
      "            male    73.352273    62.333333  75.0\n",
      "group D     male    57.000000    58.000000  68.0\n"
     ]
    }
   ],
   "source": [
    "# Multiple groupby\n",
    "filtered=df.groupby([\"EthnicGroup\",\"Gender\"]).agg({\"MathScore\":\"mean\",\"WritingScore\":[\"mean\",\"max\"]})\n",
    "print(filtered)"
   ]
  },
  {
   "cell_type": "code",
   "execution_count": null,
   "id": "c423b4cf-10e9-4274-89a7-17b19988ad9e",
   "metadata": {},
   "outputs": [],
   "source": []
  }
 ],
 "metadata": {
  "kernelspec": {
   "display_name": "Python 3 (ipykernel)",
   "language": "python",
   "name": "python3"
  },
  "language_info": {
   "codemirror_mode": {
    "name": "ipython",
    "version": 3
   },
   "file_extension": ".py",
   "mimetype": "text/x-python",
   "name": "python",
   "nbconvert_exporter": "python",
   "pygments_lexer": "ipython3",
   "version": "3.12.7"
  }
 },
 "nbformat": 4,
 "nbformat_minor": 5
}
