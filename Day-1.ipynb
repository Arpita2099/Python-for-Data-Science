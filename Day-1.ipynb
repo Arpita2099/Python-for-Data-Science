{
 "cells": [
  {
   "cell_type": "code",
   "execution_count": 1,
   "id": "c69a9b6c-51a5-457d-9566-97927e5527dc",
   "metadata": {},
   "outputs": [],
   "source": [
    "# Week-5: Pandas\n",
    "# Week-6: numpy"
   ]
  },
  {
   "cell_type": "code",
   "execution_count": 3,
   "id": "b0d222dc-0769-4d63-9df0-4a64f07ed8f7",
   "metadata": {},
   "outputs": [],
   "source": [
    "# Numpy= library--> import this--> numerical python-->numpy\n",
    "# Specially used for numerical functions on matrices. But only limited to this."
   ]
  },
  {
   "cell_type": "code",
   "execution_count": 5,
   "id": "4a1cb592-ad5b-4e18-89c6-07224874ebab",
   "metadata": {},
   "outputs": [
    {
     "name": "stdout",
     "output_type": "stream",
     "text": [
      "[4, 5, 6, 7]\n",
      "[4 5 6 7]\n"
     ]
    }
   ],
   "source": [
    "import numpy as np\n",
    "# 1 dimensional array\n",
    "A=[4,5,6,7]\n",
    "print(A)\n",
    "arr=np.array(A)\n",
    "print(arr)"
   ]
  },
  {
   "cell_type": "code",
   "execution_count": 7,
   "id": "5acf1352-1105-4453-8699-41edcb03a766",
   "metadata": {},
   "outputs": [
    {
     "name": "stdout",
     "output_type": "stream",
     "text": [
      "[[1 2 3]\n",
      " [4 5 6]]\n",
      "1\n",
      "2\n"
     ]
    }
   ],
   "source": [
    "# 2D list\n",
    "A=[[1,2,3],[4,5,6]]\n",
    "arr_2D = np.array(A)\n",
    "print(arr_2D)\n",
    "print(np.ndim(arr))\n",
    "print(np.ndim(arr_2D))"
   ]
  },
  {
   "cell_type": "code",
   "execution_count": 9,
   "id": "9a698cd5-fe75-4e46-9d68-be5b3de6bf50",
   "metadata": {},
   "outputs": [
    {
     "name": "stdout",
     "output_type": "stream",
     "text": [
      "(4,)\n",
      "(2, 3)\n"
     ]
    }
   ],
   "source": [
    "print(np.shape(arr))\n",
    "print(np.shape(arr_2D))"
   ]
  },
  {
   "cell_type": "code",
   "execution_count": 11,
   "id": "0107b3df-3759-415c-a186-b3c0241a4755",
   "metadata": {},
   "outputs": [
    {
     "name": "stdout",
     "output_type": "stream",
     "text": [
      "4\n"
     ]
    }
   ],
   "source": [
    "print(np.size(arr))"
   ]
  },
  {
   "cell_type": "code",
   "execution_count": 13,
   "id": "74e75cc3-085d-4c5e-9f9e-cb9905611c32",
   "metadata": {},
   "outputs": [],
   "source": [
    "# Similar to range function in for loop---> there's function\n",
    "# called arrange() in np"
   ]
  },
  {
   "cell_type": "code",
   "execution_count": 19,
   "id": "c5d1bc9f-9e2d-4453-9836-4324b49bf0f9",
   "metadata": {},
   "outputs": [
    {
     "name": "stdout",
     "output_type": "stream",
     "text": [
      "[ 1  2  3  4  5  6  7  8  9 10 11 12 13 14 15 16 17 18 19]\n"
     ]
    }
   ],
   "source": [
    "a = np.arange(1,20)\n",
    "print(a)"
   ]
  },
  {
   "cell_type": "code",
   "execution_count": 23,
   "id": "0aef7dd2-2823-497a-9495-6f4ab59564d3",
   "metadata": {},
   "outputs": [
    {
     "name": "stdout",
     "output_type": "stream",
     "text": [
      "[[[ 0  1]\n",
      "  [ 2  3]\n",
      "  [ 4  5]\n",
      "  [ 6  7]\n",
      "  [ 8  9]\n",
      "  [10 11]\n",
      "  [12 13]\n",
      "  [14 15]\n",
      "  [16 17]\n",
      "  [18 19]]\n",
      "\n",
      " [[20 21]\n",
      "  [22 23]\n",
      "  [24 25]\n",
      "  [26 27]\n",
      "  [28 29]\n",
      "  [30 31]\n",
      "  [32 33]\n",
      "  [34 35]\n",
      "  [36 37]\n",
      "  [38 39]]\n",
      "\n",
      " [[40 41]\n",
      "  [42 43]\n",
      "  [44 45]\n",
      "  [46 47]\n",
      "  [48 49]\n",
      "  [ 0  0]\n",
      "  [ 0  0]\n",
      "  [ 0  0]\n",
      "  [ 0  0]\n",
      "  [ 0  0]]\n",
      "\n",
      " [[ 0  0]\n",
      "  [ 0  0]\n",
      "  [ 0  0]\n",
      "  [ 0  0]\n",
      "  [ 0  0]\n",
      "  [ 0  0]\n",
      "  [ 0  0]\n",
      "  [ 0  0]\n",
      "  [ 0  0]\n",
      "  [ 0  0]]\n",
      "\n",
      " [[ 0  0]\n",
      "  [ 0  0]\n",
      "  [ 0  0]\n",
      "  [ 0  0]\n",
      "  [ 0  0]\n",
      "  [ 0  0]\n",
      "  [ 0  0]\n",
      "  [ 0  0]\n",
      "  [ 0  0]\n",
      "  [ 0  0]]\n",
      "\n",
      " [[ 0  0]\n",
      "  [ 0  0]\n",
      "  [ 0  0]\n",
      "  [ 0  0]\n",
      "  [ 0  0]\n",
      "  [ 0  0]\n",
      "  [ 0  0]\n",
      "  [ 0  0]\n",
      "  [ 0  0]\n",
      "  [ 0  0]]]\n"
     ]
    }
   ],
   "source": [
    "A= np.arange(50)\n",
    "A.resize(6,10) # Row,column\n",
    "A.resize(6,10,2) #block,rows,column # This is an example of tensor\n",
    "print(A)"
   ]
  },
  {
   "cell_type": "code",
   "execution_count": 25,
   "id": "083bd503-2788-4d87-94d9-3c374063a480",
   "metadata": {},
   "outputs": [
    {
     "name": "stdout",
     "output_type": "stream",
     "text": [
      "[[ 0  1]\n",
      " [ 2  3]\n",
      " [ 4  5]\n",
      " [ 6  7]\n",
      " [ 8  9]\n",
      " [10 11]\n",
      " [12 13]\n",
      " [14 15]\n",
      " [16 17]\n",
      " [18 19]\n",
      " [20 21]\n",
      " [22 23]\n",
      " [24 25]\n",
      " [26 27]\n",
      " [28 29]\n",
      " [30 31]\n",
      " [32 33]\n",
      " [34 35]\n",
      " [36 37]\n",
      " [38 39]\n",
      " [40 41]\n",
      " [42 43]\n",
      " [44 45]\n",
      " [46 47]\n",
      " [48 49]]\n"
     ]
    }
   ],
   "source": [
    "A=np.arange(50)\n",
    "print(A.reshape(25,2))"
   ]
  },
  {
   "cell_type": "code",
   "execution_count": 27,
   "id": "01fac01c-cc4a-4fa8-8c9c-7edeb5c3ebe6",
   "metadata": {},
   "outputs": [
    {
     "name": "stdout",
     "output_type": "stream",
     "text": [
      "[[ 0  1  2  3  4]\n",
      " [ 5  6  7  8  9]\n",
      " [10 11 12 13 14]\n",
      " [15 16 17 18 19]\n",
      " [20 21 22 23 24]\n",
      " [25 26 27 28 29]\n",
      " [30 31 32 33 34]\n",
      " [35 36 37 38 39]\n",
      " [40 41 42 43 44]\n",
      " [45 46 47 48 49]]\n"
     ]
    }
   ],
   "source": [
    "print(A.reshape(-1,5))"
   ]
  },
  {
   "cell_type": "code",
   "execution_count": 29,
   "id": "f0b4ea93-79ad-4513-9b64-6a84ef2fb0a8",
   "metadata": {},
   "outputs": [
    {
     "name": "stdout",
     "output_type": "stream",
     "text": [
      "92\n"
     ]
    }
   ],
   "source": [
    "# Let's create a random numpy array of certain size\n",
    "arr=np.random.randint(1,101)\n",
    "print(arr)"
   ]
  },
  {
   "cell_type": "code",
   "execution_count": 31,
   "id": "77f908e1-c096-4ef8-a84a-65e86ce2f3d2",
   "metadata": {},
   "outputs": [
    {
     "name": "stdout",
     "output_type": "stream",
     "text": [
      "[61 96 74 72 71 21 34 91 22 82]\n"
     ]
    }
   ],
   "source": [
    "arr=np.random.randint(1,101,size=10)\n",
    "print(arr)"
   ]
  },
  {
   "cell_type": "code",
   "execution_count": 33,
   "id": "6cadd19d-509c-42de-a445-c2763ffd03ac",
   "metadata": {},
   "outputs": [
    {
     "name": "stdout",
     "output_type": "stream",
     "text": [
      "[[78 16 64 90 12 93]\n",
      " [18 41 39  4 59 21]\n",
      " [30 65 75 96 40 75]]\n"
     ]
    }
   ],
   "source": [
    "arr=np.random.randint(1,101,size=(3,6))\n",
    "print(arr)"
   ]
  },
  {
   "cell_type": "code",
   "execution_count": 37,
   "id": "9a2d9738-0b0e-4e46-b7e7-1405bf8aa993",
   "metadata": {},
   "outputs": [
    {
     "name": "stdout",
     "output_type": "stream",
     "text": [
      "T [[78 18 30]\n",
      " [16 41 65]\n",
      " [64 39 75]\n",
      " [90  4 96]\n",
      " [12 59 40]\n",
      " [93 21 75]]\n"
     ]
    }
   ],
   "source": [
    "# Basic of a matrix operation\n",
    "# Transposition\n",
    "print(\"T\",arr.T)"
   ]
  },
  {
   "cell_type": "code",
   "execution_count": 39,
   "id": "2206cd50-4e38-4051-9870-7c257c73eb0f",
   "metadata": {},
   "outputs": [
    {
     "name": "stdout",
     "output_type": "stream",
     "text": [
      "[[48 23 60 12 51 33]\n",
      " [73 80 28 36 54 34]\n",
      " [42 66 58 35 80 33]]\n",
      "\n",
      " [[ 37  78  30  48  79  23]\n",
      " [ 40  35  57  13  35 100]\n",
      " [ 62  16  69  96  66 100]]\n"
     ]
    }
   ],
   "source": [
    "arr1=np.random.randint(1,101,size=(3,6))\n",
    "arr2=np.random.randint(1,101,size=(3,6))\n",
    "print(arr1)\n",
    "print(\"\\n\",arr2)"
   ]
  },
  {
   "cell_type": "code",
   "execution_count": 41,
   "id": "96bc6ac2-303c-4475-aee4-1eb7f5ebfd87",
   "metadata": {},
   "outputs": [
    {
     "name": "stdout",
     "output_type": "stream",
     "text": [
      "[[ 85 101  90  60 130  56]\n",
      " [113 115  85  49  89 134]\n",
      " [104  82 127 131 146 133]]\n"
     ]
    }
   ],
   "source": [
    "print(arr1+arr2)"
   ]
  },
  {
   "cell_type": "code",
   "execution_count": 43,
   "id": "e21a5292-82b3-46d7-9a4f-818e7fbdfce0",
   "metadata": {},
   "outputs": [
    {
     "name": "stdout",
     "output_type": "stream",
     "text": [
      "[[ 11 -55  30 -36 -28  10]\n",
      " [ 33  45 -29  23  19 -66]\n",
      " [-20  50 -11 -61  14 -67]]\n"
     ]
    }
   ],
   "source": [
    "print(arr1-arr2)"
   ]
  },
  {
   "cell_type": "code",
   "execution_count": 45,
   "id": "eafaea6f-4886-4f76-8708-fea5d54f75ed",
   "metadata": {},
   "outputs": [
    {
     "name": "stdout",
     "output_type": "stream",
     "text": [
      "[[1776 1794 1800  576 4029  759]\n",
      " [2920 2800 1596  468 1890 3400]\n",
      " [2604 1056 4002 3360 5280 3300]]\n"
     ]
    }
   ],
   "source": [
    "print(arr1*arr2)"
   ]
  },
  {
   "cell_type": "code",
   "execution_count": 47,
   "id": "6cbc4a10-7357-4dd6-af72-2749690a4b35",
   "metadata": {},
   "outputs": [
    {
     "name": "stdout",
     "output_type": "stream",
     "text": [
      "[[50 25 62 14 53 35]\n",
      " [75 82 30 38 56 36]\n",
      " [44 68 60 37 82 35]]\n"
     ]
    }
   ],
   "source": [
    "print(arr1+2)"
   ]
  },
  {
   "cell_type": "code",
   "execution_count": 51,
   "id": "97a223d9-b6a7-40ed-87d6-cd29687e028d",
   "metadata": {},
   "outputs": [],
   "source": [
    "# Rules of matrix\n",
    "# The number of row of first matrix is equal to number of column in second matrix\n",
    "# 2*3=3*2"
   ]
  },
  {
   "cell_type": "code",
   "execution_count": 53,
   "id": "cf1ba4a4-dd7a-47d1-9cd5-73ca6c5a2332",
   "metadata": {},
   "outputs": [],
   "source": [
    "# print(np.matmul(arr1,arr2)): For matrix multiplication"
   ]
  },
  {
   "cell_type": "code",
   "execution_count": 63,
   "id": "347853b1-8e23-4638-af54-139d71b318d9",
   "metadata": {},
   "outputs": [
    {
     "name": "stdout",
     "output_type": "stream",
     "text": [
      "[[ 1 40  5 71]\n",
      " [98 90 49 66]\n",
      " [ 8 13 61 31]\n",
      " [18 68 91 35]]\n"
     ]
    }
   ],
   "source": [
    "# Linear algebra---> rank, inverse, determinant\n",
    "# Linear algebra---> square matrix\n",
    "arr1=np.random.randint(1,101,size=(4,4))\n",
    "print(arr1)"
   ]
  },
  {
   "cell_type": "code",
   "execution_count": 65,
   "id": "c0bc5e59-99e1-451a-a844-2fb728bb134f",
   "metadata": {},
   "outputs": [
    {
     "name": "stdout",
     "output_type": "stream",
     "text": [
      "[[-0.00902484  0.01174902  0.00920566 -0.01200135]\n",
      " [ 0.00399116 -0.00130774 -0.02839197  0.01951686]\n",
      " [-0.00595988 -0.0016101   0.01366291  0.0030248 ]\n",
      " [ 0.01238279  0.00068466  0.01490364 -0.01103939]]\n"
     ]
    }
   ],
   "source": [
    "print(np.linalg.inv(arr1))"
   ]
  },
  {
   "cell_type": "code",
   "execution_count": 67,
   "id": "3326ccab-a0c4-4291-bb46-136b6e59b80f",
   "metadata": {},
   "outputs": [
    {
     "name": "stdout",
     "output_type": "stream",
     "text": [
      "19549717.00000002\n",
      "4\n"
     ]
    }
   ],
   "source": [
    "print(np.linalg.det(arr1))\n",
    "print(np.linalg.matrix_rank(arr1))"
   ]
  },
  {
   "cell_type": "code",
   "execution_count": 69,
   "id": "b9379e6a-11bc-430b-941d-a61f948b3768",
   "metadata": {},
   "outputs": [
    {
     "name": "stdout",
     "output_type": "stream",
     "text": [
      "[[35 67 10 75 39 79]\n",
      " [36  7 13 54 98 94]\n",
      " [48 84 66  8 20 19]]\n"
     ]
    }
   ],
   "source": [
    "# axis in numpy arrays. (Only for 2nd and more)\n",
    "arr1=np.random.randint(1,101,size=(3,6))\n",
    "print(arr1)"
   ]
  },
  {
   "cell_type": "code",
   "execution_count": 71,
   "id": "778b2704-6b9c-4a1d-8dd7-07b15b87451a",
   "metadata": {},
   "outputs": [
    {
     "name": "stdout",
     "output_type": "stream",
     "text": [
      "[ 7  8 10 13 19 20 35 36 39 48 54 66 67 75 79 84 94 98]\n"
     ]
    }
   ],
   "source": [
    "print(np.sort(arr1,axis=None))"
   ]
  },
  {
   "cell_type": "code",
   "execution_count": 73,
   "id": "bf3d375d-cc8b-4592-bcfc-3a84d64d96fa",
   "metadata": {},
   "outputs": [
    {
     "name": "stdout",
     "output_type": "stream",
     "text": [
      "[[10 35 39 67 75 79]\n",
      " [ 7 13 36 54 94 98]\n",
      " [ 8 19 20 48 66 84]]\n"
     ]
    }
   ],
   "source": [
    "print(np.sort(arr1))"
   ]
  },
  {
   "cell_type": "code",
   "execution_count": 75,
   "id": "d5c9b434-9271-45b2-9973-005f2fc5a28f",
   "metadata": {},
   "outputs": [
    {
     "name": "stdout",
     "output_type": "stream",
     "text": [
      "[[35  7 10  8 20 19]\n",
      " [36 67 13 54 39 79]\n",
      " [48 84 66 75 98 94]]\n"
     ]
    }
   ],
   "source": [
    "print(np.sort(arr1,axis=0))"
   ]
  },
  {
   "cell_type": "code",
   "execution_count": 83,
   "id": "2786cbef-1d1c-4d4f-95f2-d5626c3bb0af",
   "metadata": {},
   "outputs": [
    {
     "name": "stdout",
     "output_type": "stream",
     "text": [
      "[[10 35 39 67 75 79]\n",
      " [ 7 13 36 54 94 98]\n",
      " [ 8 19 20 48 66 84]]\n"
     ]
    }
   ],
   "source": [
    "print(np.sort(arr1))"
   ]
  },
  {
   "cell_type": "code",
   "execution_count": 87,
   "id": "e0ec354e-cfcb-407a-9718-e7a8a422420f",
   "metadata": {},
   "outputs": [
    {
     "name": "stdout",
     "output_type": "stream",
     "text": [
      "[305 302 245]\n"
     ]
    }
   ],
   "source": [
    "print(np.sum(arr1,axis=1))"
   ]
  },
  {
   "cell_type": "code",
   "execution_count": 93,
   "id": "90690f67-7c26-441f-93fb-4cd7192631a2",
   "metadata": {},
   "outputs": [
    {
     "name": "stdout",
     "output_type": "stream",
     "text": [
      "[39.66666667 52.66666667 29.66666667 45.66666667 52.33333333 64.        ]\n"
     ]
    }
   ],
   "source": [
    "print(np.mean(arr1,axis=0))"
   ]
  },
  {
   "cell_type": "code",
   "execution_count": 95,
   "id": "284746ad-fd07-44d1-a5de-970152aa27ba",
   "metadata": {},
   "outputs": [
    {
     "name": "stdout",
     "output_type": "stream",
     "text": [
      "[2 2 2 0 1 1]\n"
     ]
    }
   ],
   "source": [
    "print(np.argmax(arr1, axis=0)) #arg=index of maximum"
   ]
  },
  {
   "cell_type": "code",
   "execution_count": 97,
   "id": "840e019a-30b1-4337-a865-ed97112e681e",
   "metadata": {},
   "outputs": [],
   "source": [
    "# Create two random matrices having elements between 50 and 200 of size 4*4 each\n",
    "# Perform matrix multiplication and element wise multiplication\n",
    "# Perform addtional of two matrix.\n",
    "# Add 10 to each element of both matrix\n",
    "# Find determinant, rank and inverse of both matrices. Confirm the inverse by multiplication\n",
    "# With original matrix @ A*inv(A)=I\n",
    "# Practice mean(), sum(), max(), min(), std(), argmax() with axis 0,1 and none"
   ]
  },
  {
   "cell_type": "code",
   "execution_count": 123,
   "id": "c20894a0-1642-4534-a52c-8fd1c83736a3",
   "metadata": {},
   "outputs": [
    {
     "name": "stdout",
     "output_type": "stream",
     "text": [
      "[[124  58 127  93]\n",
      " [172 136  64 100]\n",
      " [102 173  98  82]\n",
      " [122 133 106 174]]\n",
      "\n",
      "[[ 72  74  71  84]\n",
      " [150 168 186 153]\n",
      " [163  88  83  65]\n",
      " [ 95 104 185 123]]\n",
      "\n",
      "[[47164 39768 47338 38984]\n",
      " [52716 51608 61320 51716]\n",
      " [57058 53764 62724 51493]\n",
      " [62542 58796 74388 58889]]\n",
      "\n",
      "[[196 132 198 177]\n",
      " [322 304 250 253]\n",
      " [265 261 181 147]\n",
      " [217 237 291 297]]\n",
      "\n",
      "[[134  68 137 103]\n",
      " [182 146  74 110]\n",
      " [112 183 108  92]\n",
      " [132 143 116 184]]\n",
      "[[ 82  84  81  94]\n",
      " [160 178 196 163]\n",
      " [173  98  93  75]\n",
      " [105 114 195 133]]\n",
      "\n",
      "141765791.99999973\n",
      "21632796.000000004\n",
      "[[ 0.00309536  0.01029684 -0.00519214 -0.00512527]\n",
      " [-0.00583994 -0.00037555  0.00857442 -0.00070364]\n",
      " [ 0.01054223 -0.0086758   0.00593461 -0.00344532]\n",
      " [-0.00412873 -0.00164731 -0.00652888  0.01197742]]\n",
      "[[ 0.00504567 -0.01014682  0.01141018  0.00314606]\n",
      " [-0.02562526  0.03489489 -0.00822876 -0.02155713]\n",
      " [-0.01879812  0.00057043  0.00102594  0.01158602]\n",
      " [ 0.04604342 -0.02252561 -0.00339817  0.00650124]]\n",
      "[[2 2 2 2]\n",
      " [1 1 1 1]\n",
      " [1 1 2 2]\n",
      " [1 1 1 1]]\n",
      "\n",
      "[[ 0.3838245   0.59721685 -0.65940192 -0.47665014]\n",
      " [-1.00447002 -0.05107466  0.54876313 -0.07036394]\n",
      " [ 1.07530776 -1.50091382  0.58159131 -0.28251594]\n",
      " [-0.50370448 -0.21909204 -0.6920614   2.08407055]]\n",
      "[[ 0.00309536  0.01029684 -0.00519214 -0.00512527]\n",
      " [-0.00583994 -0.00037555  0.00857442 -0.00070364]\n",
      " [ 0.01054223 -0.0086758   0.00593461 -0.00344532]\n",
      " [-0.00412873 -0.00164731 -0.00652888  0.01197742]]\n",
      "\n",
      "[[ 0.22286584  0.76196633 -0.36864202 -0.4305227 ]\n",
      " [-0.8759913  -0.06309223  1.59484285 -0.10765683]\n",
      " [ 1.71838397 -0.76347061  0.49257223 -0.22394556]\n",
      " [-0.3922289  -0.17132009 -1.207843    1.47322228]]\n",
      "[[ 0.00504567 -0.01014682  0.01141018  0.00314606]\n",
      " [-0.02562526  0.03489489 -0.00822876 -0.02155713]\n",
      " [-0.01879812  0.00057043  0.00102594  0.01158602]\n",
      " [ 0.04604342 -0.02252561 -0.00339817  0.00650124]]\n"
     ]
    },
    {
     "data": {
      "text/plain": [
       "True"
      ]
     },
     "execution_count": 123,
     "metadata": {},
     "output_type": "execute_result"
    }
   ],
   "source": [
    "# Create two random matrices having elements between 50 and 200 of size 4*4 each\n",
    "a1=np.random.randint(50,200,size=(4,4))\n",
    "a2=np.random.randint(50,200,size=(4,4))\n",
    "print(a1)\n",
    "print()\n",
    "print(a2)\n",
    "print()\n",
    "print(np.matmul(a1,a2))\n",
    "print()\n",
    "print(a1+a2)\n",
    "print()\n",
    "print(a1+10)\n",
    "print(a2+10)\n",
    "print()\n",
    "print(np.linalg.det(a1))\n",
    "print(np.linalg.det(a2))\n",
    "print(np.linalg.inv(a1))\n",
    "print(np.linalg.inv(a2))\n",
    "print(np.linalg.matrix_rank(a1,a2))\n",
    "print()\n",
    "print(a1*np.linalg.inv(a1))==print(np.linalg.inv(a1))\n",
    "print()\n",
    "print(a2*np.linalg.inv(a1))==print(np.linalg.inv(a2))\n"
   ]
  },
  {
   "cell_type": "code",
   "execution_count": null,
   "id": "0d645035-62cc-4c3a-9a04-167fce921ac0",
   "metadata": {},
   "outputs": [],
   "source": []
  }
 ],
 "metadata": {
  "kernelspec": {
   "display_name": "Python 3 (ipykernel)",
   "language": "python",
   "name": "python3"
  },
  "language_info": {
   "codemirror_mode": {
    "name": "ipython",
    "version": 3
   },
   "file_extension": ".py",
   "mimetype": "text/x-python",
   "name": "python",
   "nbconvert_exporter": "python",
   "pygments_lexer": "ipython3",
   "version": "3.12.7"
  }
 },
 "nbformat": 4,
 "nbformat_minor": 5
}
