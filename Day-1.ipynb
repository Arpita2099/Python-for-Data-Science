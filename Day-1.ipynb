{
 "cells": [
  {
   "cell_type": "code",
   "execution_count": 1,
   "id": "a5dddecc-d74b-424a-b637-5606027f7dfa",
   "metadata": {},
   "outputs": [
    {
     "name": "stdout",
     "output_type": "stream",
     "text": [
      "Hello Word!\n",
      "Hello Word!\n",
      "Hello Word!\n",
      "Hello Word!\n",
      "Hello Word!\n",
      "Hello Word!\n",
      "Hello Word!\n",
      "Hello Word!\n",
      "Hello Word!\n",
      "Hello Word!\n",
      "Hello Word!\n",
      "Hello Word!\n",
      "Hello Word!\n",
      "Hello Word!\n",
      "Hello Word!\n",
      "Hello Word!\n",
      "Hello Word!\n",
      "Hello Word!\n",
      "Hello Word!\n",
      "Hello Word!\n",
      "Hello Word!\n",
      "Hello Word!\n",
      "Hello Word!\n",
      "Hello Word!\n",
      "Hello Word!\n",
      "Hello Word!\n",
      "Hello Word!\n",
      "Hello Word!\n",
      "Hello Word!\n",
      "Hello Word!\n",
      "Hello Word!\n",
      "Hello Word!\n",
      "Hello Word!\n",
      "Hello Word!\n",
      "Hello Word!\n",
      "Hello Word!\n",
      "Hello Word!\n",
      "Hello Word!\n",
      "Hello Word!\n",
      "Hello Word!\n",
      "Hello Word!\n",
      "Hello Word!\n",
      "Hello Word!\n",
      "Hello Word!\n",
      "Hello Word!\n",
      "Hello Word!\n",
      "Hello Word!\n",
      "Hello Word!\n",
      "Hello Word!\n",
      "Hello Word!\n",
      "Hello Word!\n",
      "Hello Word!\n",
      "Hello Word!\n",
      "Hello Word!\n",
      "Hello Word!\n",
      "Hello Word!\n",
      "Hello Word!\n",
      "Hello Word!\n",
      "Hello Word!\n",
      "Hello Word!\n",
      "Hello Word!\n",
      "Hello Word!\n",
      "Hello Word!\n",
      "Hello Word!\n",
      "Hello Word!\n",
      "Hello Word!\n",
      "Hello Word!\n",
      "Hello Word!\n",
      "Hello Word!\n",
      "Hello Word!\n",
      "Hello Word!\n",
      "Hello Word!\n",
      "Hello Word!\n",
      "Hello Word!\n",
      "Hello Word!\n",
      "Hello Word!\n",
      "Hello Word!\n",
      "Hello Word!\n",
      "Hello Word!\n",
      "Hello Word!\n",
      "Hello Word!\n",
      "Hello Word!\n",
      "Hello Word!\n",
      "Hello Word!\n",
      "Hello Word!\n",
      "Hello Word!\n",
      "Hello Word!\n",
      "Hello Word!\n",
      "Hello Word!\n",
      "Hello Word!\n",
      "Hello Word!\n",
      "Hello Word!\n",
      "Hello Word!\n",
      "Hello Word!\n",
      "Hello Word!\n",
      "Hello Word!\n",
      "Hello Word!\n",
      "Hello Word!\n",
      "Hello Word!\n",
      "Hello Word!\n"
     ]
    }
   ],
   "source": [
    "# Loop in Python: Repetition\n",
    "# For Loop\n",
    "for i in range(1,101):\n",
    "    print(\"Hello Word!\")\n",
    "# While Loop"
   ]
  },
  {
   "cell_type": "code",
   "execution_count": 2,
   "id": "1e3bd508-063b-4a2b-ac8e-fb8a2dd20d85",
   "metadata": {},
   "outputs": [],
   "source": [
    "# While Loop\n",
    "# Syntax\n",
    "# while <condition>:\n",
    "# indentation is important\n",
    "# statement\n",
    "# For instance,\n"
   ]
  },
  {
   "cell_type": "code",
   "execution_count": 3,
   "id": "462bc4ba-ca52-4954-a3a4-a07d55ca468f",
   "metadata": {},
   "outputs": [
    {
     "name": "stdout",
     "output_type": "stream",
     "text": [
      "Hello\n",
      "Hello\n",
      "Hello\n",
      "Hello\n",
      "Hello\n",
      "Hello\n"
     ]
    }
   ],
   "source": [
    "a=2\n",
    "while a<13:\n",
    "    print(\"Hello\")\n",
    "    a+=2"
   ]
  },
  {
   "cell_type": "code",
   "execution_count": 22,
   "id": "450f75fd-15ed-4b4c-a2fc-a05c8e55e6f1",
   "metadata": {},
   "outputs": [
    {
     "name": "stdin",
     "output_type": "stream",
     "text": [
      "Enter any number:  11\n"
     ]
    },
    {
     "name": "stdout",
     "output_type": "stream",
     "text": [
      "Sum of even number is: 30\n"
     ]
    }
   ],
   "source": [
    "# write a program to find the sum of even numbers upto n. (while loop)\n",
    "a=2\n",
    "num=int(input(\"Enter any number: \"))\n",
    "sum=0\n",
    "while a<=num:\n",
    "    if a%2==0:\n",
    "        sum=sum+a\n",
    "        a+=2\n",
    "print(f\"Sum of even number is: {sum}\")"
   ]
  },
  {
   "cell_type": "code",
   "execution_count": null,
   "id": "93368bcf-032e-4bda-91f2-ab6bdcc5ed26",
   "metadata": {},
   "outputs": [],
   "source": []
  },
  {
   "cell_type": "code",
   "execution_count": null,
   "id": "6f6a2cb3-4bb2-484b-a9dd-e948ff12180a",
   "metadata": {},
   "outputs": [],
   "source": []
  }
 ],
 "metadata": {
  "kernelspec": {
   "display_name": "Python 3 (ipykernel)",
   "language": "python",
   "name": "python3"
  },
  "language_info": {
   "codemirror_mode": {
    "name": "ipython",
    "version": 3
   },
   "file_extension": ".py",
   "mimetype": "text/x-python",
   "name": "python",
   "nbconvert_exporter": "python",
   "pygments_lexer": "ipython3",
   "version": "3.12.7"
  }
 },
 "nbformat": 4,
 "nbformat_minor": 5
}
