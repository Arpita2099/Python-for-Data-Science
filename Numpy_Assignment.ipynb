{
 "cells": [
  {
   "cell_type": "code",
   "execution_count": 5,
   "id": "9899a771-a950-40e5-b688-5d49d5e87f40",
   "metadata": {},
   "outputs": [],
   "source": [
    "import numpy as np\n",
    "\n",
    "# Creating a composite numpy data type (structured array)\n",
    "# In this above code name is of 10 unicode, the age is store in the integer, and height is store in float.\n",
    "emp = np.dtype([('name', 'U20'), ('age', 'i4'), ('height', 'f4')]) \n",
    "\n",
    "# Creating structured array with sample data\n",
    "arr = np.array([('Amar', 20, 5.7),('Sushma', 20, 5.3),('Arpita', 18, 5.3),('Sidhu', 21, 5.8),('Binisha', 20, 5.4)], dtype=emp)"
   ]
  },
  {
   "cell_type": "code",
   "execution_count": 7,
   "id": "b63a79c0-e81b-4677-b15d-b75d13d7a11a",
   "metadata": {},
   "outputs": [
    {
     "name": "stdout",
     "output_type": "stream",
     "text": [
      "Here is the all name of Student: ['Amar' 'Sushma' 'Arpita' 'Sidhu' 'Binisha']\n"
     ]
    }
   ],
   "source": [
    "# (b) Print all names\n",
    "print(\"Here is the all name of Student:\", arr['name']) \n",
    "# It will give the name of all students created."
   ]
  },
  {
   "cell_type": "code",
   "execution_count": 9,
   "id": "4e61dcd0-6f3f-4918-83b5-98a5f638d2c3",
   "metadata": {},
   "outputs": [
    {
     "name": "stdout",
     "output_type": "stream",
     "text": [
      "\n",
      "After updating Amar age to 30:\n",
      "[('Amar', 30, 5.7) ('Sushma', 20, 5.3) ('Arpita', 18, 5.3)\n",
      " ('Sidhu', 21, 5.8) ('Binisha', 20, 5.4)]\n"
     ]
    }
   ],
   "source": [
    "# (c) Update age of first individual to 30\n",
    "arr['age'][0] = 30\n",
    "print(\"\\nAfter updating Amar age to 30:\")\n",
    "print(arr)"
   ]
  },
  {
   "cell_type": "code",
   "execution_count": 45,
   "id": "4f33c79c-06ee-487b-9fa4-8be93e0c14c9",
   "metadata": {},
   "outputs": [
    {
     "name": "stdout",
     "output_type": "stream",
     "text": [
      "\n",
      "After adding the new record:\n",
      "[('Amar', 30, 5.7) ('Sushma', 20, 5.3) ('Arpita', 18, 5.3)\n",
      " ('Sidhu', 30, 5.8) ('Binisha', 20, 5.4) ('Asmita', 25, 5.9)\n",
      " ('Asmita', 25, 5.9) ('Asmita', 25, 5.1)]\n"
     ]
    }
   ],
   "source": [
    "# (d) Add new record\n",
    "new_record = np.array([('Asmita', 25, 5.1)], dtype=emp)\n",
    "arr = np.concatenate((arr, new_record))\n",
    "print(\"\\nAfter adding the new record:\")\n",
    "print(arr)"
   ]
  },
  {
   "cell_type": "code",
   "execution_count": 47,
   "id": "591dae22-4df1-4841-85a9-5496a5c37084",
   "metadata": {},
   "outputs": [
    {
     "name": "stdout",
     "output_type": "stream",
     "text": [
      "\n",
      "Average height is: 5.55\n"
     ]
    }
   ],
   "source": [
    "# Average height\n",
    "avg_height = np.mean(arr['height'])\n",
    "print(\"\\nAverage height is:\", avg_height)"
   ]
  },
  {
   "cell_type": "code",
   "execution_count": 49,
   "id": "1be8e9d0-f147-40be-8a06-a0d34b8f50d6",
   "metadata": {},
   "outputs": [
    {
     "name": "stdout",
     "output_type": "stream",
     "text": [
      "Maximum age is: 30\n"
     ]
    }
   ],
   "source": [
    "# Maximum age\n",
    "max_age = np.max(arr['age'])\n",
    "print(\"Maximum age is:\", max_age)"
   ]
  },
  {
   "cell_type": "code",
   "execution_count": 11,
   "id": "e2fc7357-b22f-40ed-ab9a-eb8278c34cda",
   "metadata": {},
   "outputs": [
    {
     "name": "stdout",
     "output_type": "stream",
     "text": [
      "Maximum age is: 0\n"
     ]
    }
   ],
   "source": [
    "# Maximum age\n",
    "max_age = np.argmax(arr['age'])\n",
    "print(\"Maximum age is:\", max_age)"
   ]
  },
  {
   "cell_type": "code",
   "execution_count": 15,
   "id": "c7d6c1d3-888d-4c4e-b90e-32cca14cb4b2",
   "metadata": {},
   "outputs": [
    {
     "name": "stdout",
     "output_type": "stream",
     "text": [
      "The youngest person is: Arpita with age 18\n"
     ]
    }
   ],
   "source": [
    "# Display the name of the youngest person (use argmin for age)\n",
    "youngest_index = np.argmin(arr['age'])\n",
    "print(\"The youngest person is:\", arr['name'][youngest_index], \"with age\", arr['age'][youngest_index])"
   ]
  },
  {
   "cell_type": "code",
   "execution_count": 53,
   "id": "2b04fe93-c74c-4f74-a8f0-040358658a64",
   "metadata": {},
   "outputs": [
    {
     "name": "stdout",
     "output_type": "stream",
     "text": [
      "\n",
      "Correlation between age and height: 0.5833578997276516\n"
     ]
    }
   ],
   "source": [
    "# Correlation between age and height\n",
    "correlation = np.corrcoef(arr['age'], arr['height'])[0, 1]\n",
    "print(\"\\nCorrelation between age and height:\", correlation)"
   ]
  },
  {
   "cell_type": "code",
   "execution_count": 13,
   "id": "13287022-a160-444a-8ce1-3932e0cd6f81",
   "metadata": {},
   "outputs": [
    {
     "name": "stdout",
     "output_type": "stream",
     "text": [
      "\n",
      "Correlation between Age and Height: 0.6108654986460715\n",
      "p-value: 0.2737463786586259\n"
     ]
    }
   ],
   "source": [
    "# Correlation between age and height\n",
    "from scipy.stats import pearsonr\n",
    "corr, p_value = pearsonr(arr['age'], arr['height'])\n",
    "print(\"\\nCorrelation between Age and Height:\", corr)\n",
    "print(\"p-value:\", p_value)"
   ]
  },
  {
   "cell_type": "code",
   "execution_count": null,
   "id": "eb40ab4d-9f4f-490d-aa9d-892d40ddee47",
   "metadata": {},
   "outputs": [],
   "source": []
  }
 ],
 "metadata": {
  "kernelspec": {
   "display_name": "Python 3 (ipykernel)",
   "language": "python",
   "name": "python3"
  },
  "language_info": {
   "codemirror_mode": {
    "name": "ipython",
    "version": 3
   },
   "file_extension": ".py",
   "mimetype": "text/x-python",
   "name": "python",
   "nbconvert_exporter": "python",
   "pygments_lexer": "ipython3",
   "version": "3.12.7"
  }
 },
 "nbformat": 4,
 "nbformat_minor": 5
}
