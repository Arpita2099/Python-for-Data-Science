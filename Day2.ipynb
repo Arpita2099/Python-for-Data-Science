{
 "cells": [
  {
   "cell_type": "code",
   "execution_count": 1,
   "id": "8c1ad828-ab44-4e5a-8332-b29dc6ae180d",
   "metadata": {},
   "outputs": [],
   "source": [
    "# List\n",
    "# enclosed within a big bracket []\n",
    "# Values or elements are seperated by comma.\n",
    "# Other collection data types are dictionary, set, andd tuple.\n"
   ]
  },
  {
   "cell_type": "code",
   "execution_count": 3,
   "id": "ce3535b5-73f0-4977-882c-ab11c0d34b45",
   "metadata": {},
   "outputs": [],
   "source": [
    "# Lists are mutable and ordered.\n",
    "# Mutable means non-resislient to changes.\n",
    "# Ordered =Each elements of lists are index.\n"
   ]
  },
  {
   "cell_type": "code",
   "execution_count": 5,
   "id": "9ef04a25-12d3-48e2-a9df-6b10b931e1f9",
   "metadata": {},
   "outputs": [
    {
     "name": "stdout",
     "output_type": "stream",
     "text": [
      "3\n",
      "3.0\n"
     ]
    }
   ],
   "source": [
    "# How to initialize and declare a list.\n",
    "L1=[1,2,3] # They are all in int data type.\n",
    "L2= ['1',2,3.0,True]\n",
    "print(L1[2]) # Indexing in the list using positive indexing.\n",
    "print(L2[-2]) # Indexing in the list using negative indexing.\n",
    "# Both are list\n",
    "# What's the difference\n",
    "# L1 is an array but L2 is not an array.\n",
    "# Even though both of them are list."
   ]
  },
  {
   "cell_type": "code",
   "execution_count": 7,
   "id": "5375929d-56f3-446b-8ae8-f0f1339e583a",
   "metadata": {},
   "outputs": [
    {
     "name": "stdout",
     "output_type": "stream",
     "text": [
      "[1, 2, 3, 4]\n"
     ]
    }
   ],
   "source": [
    "# Append function on list: Used to add the last element in the list.\n",
    "L1.append(4)\n",
    "print(L1)"
   ]
  },
  {
   "cell_type": "code",
   "execution_count": 11,
   "id": "a80ac96a-18a0-4af0-8980-bc746ec0f693",
   "metadata": {},
   "outputs": [
    {
     "name": "stdout",
     "output_type": "stream",
     "text": [
      "[1, 2, 3, 4, 6]\n"
     ]
    }
   ],
   "source": [
    "# insert function on list: Used to add new item into the list and it will not add more than two argument.\n",
    "L1.insert(5,6)\n",
    "print(L1)"
   ]
  },
  {
   "cell_type": "code",
   "execution_count": 15,
   "id": "560f1994-0856-456e-8081-be10827a649f",
   "metadata": {},
   "outputs": [],
   "source": [
    "# Iterates through value # For Loop # For collection data_type.\n",
    "# Iterates through index # For Loop # Foe collecting data_type."
   ]
  },
  {
   "cell_type": "raw",
   "id": "dd9b60cf-9df1-4468-813f-97209a780257",
   "metadata": {},
   "source": [
    "for <variable> in <iterable>"
   ]
  },
  {
   "cell_type": "code",
   "execution_count": 17,
   "id": "627372c2-c573-4587-9850-32a511930df8",
   "metadata": {},
   "outputs": [
    {
     "name": "stdout",
     "output_type": "stream",
     "text": [
      "1\n",
      "2\n",
      "3\n",
      "4\n",
      "5\n",
      "6\n",
      "7\n",
      "8\n",
      "9\n",
      "10\n"
     ]
    }
   ],
   "source": [
    "# Range function is used to provide the upper, lower and increasing value in the for loop to get the required output.\n",
    "for i in range(1,11):\n",
    "    print(i)"
   ]
  },
  {
   "cell_type": "code",
   "execution_count": 19,
   "id": "6a87a38f-7c55-4b16-bf67-dfa87cbb8256",
   "metadata": {},
   "outputs": [
    {
     "name": "stdout",
     "output_type": "stream",
     "text": [
      "0\n",
      "1\n",
      "2\n",
      "3\n",
      "4\n",
      "5\n"
     ]
    }
   ],
   "source": [
    "# Range function syntax # range(start=0,stop,step=1)\n",
    "# If you do not pass the inital or stat value than it will get started from 0.\n",
    "for i in range(6):\n",
    "    print(i)"
   ]
  },
  {
   "cell_type": "code",
   "execution_count": 21,
   "id": "5c092ac9-ca76-45fa-8567-176d3c8671da",
   "metadata": {},
   "outputs": [],
   "source": [
    "# Also if you do not give the value of step than it will autometically increase each by step one in default.\n",
    "# But ending or upper range is required other wise loop will run infinite loop."
   ]
  },
  {
   "cell_type": "code",
   "execution_count": 27,
   "id": "cd74acef-feb7-41df-9110-9944124c984b",
   "metadata": {},
   "outputs": [
    {
     "name": "stdout",
     "output_type": "stream",
     "text": [
      "20 15 10 "
     ]
    }
   ],
   "source": [
    "for i in range (20,5,-5):\n",
    "    print(i,end=' ')\n"
   ]
  },
  {
   "cell_type": "code",
   "execution_count": 29,
   "id": "e7d1bc44-aa7d-4b4c-85d5-fb1721f087b0",
   "metadata": {},
   "outputs": [
    {
     "name": "stdout",
     "output_type": "stream",
     "text": [
      "1 2 3 4 5 6 7 8 9 "
     ]
    }
   ],
   "source": [
    "# How to apply for loop collection data_types.\n",
    "L=[1,2,3,4,5,6,7,8,9]\n",
    "for i in L: # This is called iterate through value.\n",
    "    print(i,end=' ')"
   ]
  },
  {
   "cell_type": "code",
   "execution_count": 39,
   "id": "b1c46957-5bf7-4c61-ab63-2888406b57cf",
   "metadata": {},
   "outputs": [
    {
     "name": "stdout",
     "output_type": "stream",
     "text": [
      "0 1 1 2 2 3 3 4 4 5 5 6 6 7 7 8 8 9 "
     ]
    }
   ],
   "source": [
    "for i in range(len(L)):\n",
    "    print(i, end=' ')"
   ]
  },
  {
   "cell_type": "code",
   "execution_count": 41,
   "id": "17a0b87d-32b0-4c8f-824f-06900b90f2f0",
   "metadata": {},
   "outputs": [
    {
     "name": "stdout",
     "output_type": "stream",
     "text": [
      "Factorial of 0 is: 3628800\n"
     ]
    }
   ],
   "source": [
    "# Factorial of a number using while loop.\n",
    "n=10\n",
    "fact=1\n",
    "while n>0:\n",
    "    fact=fact*n\n",
    "    n=n-1\n",
    "print(f\"Factorial of {n} is: {fact}\")"
   ]
  },
  {
   "cell_type": "code",
   "execution_count": 43,
   "id": "36337c9d-36d7-4234-95bb-44bb1b429f5d",
   "metadata": {},
   "outputs": [
    {
     "name": "stdout",
     "output_type": "stream",
     "text": [
      "Factorial of 6 is 720.\n"
     ]
    }
   ],
   "source": [
    "# Write a program to print the factorial using for loop.\n",
    "fact=1\n",
    "n=6\n",
    "for i  in range(1,n+1):\n",
    "    fact=fact*i\n",
    "print(f\"Factorial of {n} is {fact}.\")"
   ]
  },
  {
   "cell_type": "code",
   "execution_count": 47,
   "id": "113e894c-5ecc-4cfc-9dee-650e449cc0e7",
   "metadata": {},
   "outputs": [
    {
     "name": "stdout",
     "output_type": "stream",
     "text": [
      "7 9 14 18 21 27 28 35 36 42 45 49 54 56 63 70 72 77 81 84 90 91 98 99 105 108 112 117 119 126 133 135 140 144 147 153 154 161 162 168 171 175 180 182 189 196 198 203 207 210 216 217 224 225 231 234 238 243 245 252 259 261 266 270 273 279 280 287 288 294 297 301 306 308 315 322 324 329 333 336 342 343 350 351 357 360 364 369 371 378 385 387 392 396 399 405 406 413 414 420 423 427 432 434 441 448 450 455 459 462 468 469 476 477 483 486 490 495 497 504 511 513 518 522 525 531 532 539 540 546 549 553 558 560 567 574 576 581 585 588 594 595 602 603 609 612 616 621 623 630 637 639 644 648 651 657 658 665 666 672 675 679 684 686 693 700 702 707 711 714 720 721 728 729 735 738 742 747 749 756 763 765 770 774 777 783 784 791 792 798 801 805 810 812 819 826 828 833 837 840 846 847 854 855 861 864 868 873 875 882 889 891 896 900 903 909 910 917 918 924 927 931 936 938 945 952 954 959 963 966 972 973 980 981 987 990 994 999 "
     ]
    }
   ],
   "source": [
    "# Find the number divisible by both 7 or 9 upto 1000\n",
    "n=1000\n",
    "for i in range(1,n+1):\n",
    "    if i%7==0 or i%9==0:\n",
    "        print(i,end=' ')\n",
    "        "
   ]
  },
  {
   "cell_type": "code",
   "execution_count": 53,
   "id": "5a916d5f-c628-4330-a349-b1dea82980c5",
   "metadata": {},
   "outputs": [
    {
     "name": "stdout",
     "output_type": "stream",
     "text": [
      "HelloWorld\n"
     ]
    }
   ],
   "source": [
    "a=\"Hello\"\n",
    "b=\"World\"\n",
    "print(a+b)"
   ]
  },
  {
   "cell_type": "code",
   "execution_count": 57,
   "id": "62145ead-9004-4621-b362-a47d0d476550",
   "metadata": {},
   "outputs": [
    {
     "name": "stdout",
     "output_type": "stream",
     "text": [
      "['H'] ['e'] ['l'] ['l'] ['o'] "
     ]
    }
   ],
   "source": [
    "for i in a:\n",
    "    print(i)"
   ]
  },
  {
   "cell_type": "code",
   "execution_count": 80,
   "id": "00a0abb1-ce1f-41ee-8730-83c8cfb9f90d",
   "metadata": {},
   "outputs": [
    {
     "name": "stdout",
     "output_type": "stream",
     "text": [
      " olleH\n"
     ]
    }
   ],
   "source": [
    "str=\" \"\n",
    "for i in range(len(a) - 1, -1, -1):\n",
    "    str = str+a[i]\n",
    "print(str)"
   ]
  },
  {
   "cell_type": "code",
   "execution_count": 82,
   "id": "87d78340-3f7a-4e9a-9920-847c9979f95c",
   "metadata": {},
   "outputs": [
    {
     "name": "stdout",
     "output_type": "stream",
     "text": [
      "dlroW olleH \n"
     ]
    }
   ],
   "source": [
    "a=\"Hello World\"\n",
    "b=\" \"\n",
    "for i in a:\n",
    "    b=i+b\n",
    "print(b)"
   ]
  },
  {
   "cell_type": "code",
   "execution_count": 84,
   "id": "ecf3bb18-2f6a-4efb-abaa-69ff132cb206",
   "metadata": {},
   "outputs": [],
   "source": [
    "# Using selection (if-else) inside a for loop\n",
    "# Lets find the sum of even numbers\n",
    "# and odd numbers from 1 to 60.\n",
    "# Use variables sum_e and sum_o\n",
    "# Sum_e =2+4+6+8...+60\n",
    "# Sum_o=1+3+5+....+59"
   ]
  },
  {
   "cell_type": "code",
   "execution_count": 90,
   "id": "f7b5801d-bc44-4d45-8b94-7139ba7abca0",
   "metadata": {},
   "outputs": [
    {
     "name": "stdout",
     "output_type": "stream",
     "text": [
      "Sum of even number is:  930\n",
      "Sum of Odd number is:  900\n"
     ]
    }
   ],
   "source": [
    "n=60\n",
    "sum_even=0\n",
    "sum_odd=0\n",
    "for i in range(1,n+1):\n",
    "    if i%2==0:\n",
    "        sum_even+=i\n",
    "    else:\n",
    "        sum_odd+=i\n",
    "print(\"Sum of even number is: \",sum_even)\n",
    "print(\"Sum of Odd number is: \",sum_odd)        "
   ]
  },
  {
   "cell_type": "code",
   "execution_count": null,
   "id": "b7ac8d29-f12a-48d8-820a-7944833ddb8e",
   "metadata": {},
   "outputs": [],
   "source": [
    "# Assignment of week-3 Loop module."
   ]
  }
 ],
 "metadata": {
  "kernelspec": {
   "display_name": "Python 3 (ipykernel)",
   "language": "python",
   "name": "python3"
  },
  "language_info": {
   "codemirror_mode": {
    "name": "ipython",
    "version": 3
   },
   "file_extension": ".py",
   "mimetype": "text/x-python",
   "name": "python",
   "nbconvert_exporter": "python",
   "pygments_lexer": "ipython3",
   "version": "3.12.7"
  }
 },
 "nbformat": 4,
 "nbformat_minor": 5
}
