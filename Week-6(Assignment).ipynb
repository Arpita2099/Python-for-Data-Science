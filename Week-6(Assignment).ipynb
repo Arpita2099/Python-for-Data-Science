{
 "cells": [
  {
   "cell_type": "code",
   "execution_count": 8,
   "id": "a1a769fd-15d0-42a9-84c4-eb1d7c003107",
   "metadata": {},
   "outputs": [
    {
     "ename": "SyntaxError",
     "evalue": "invalid syntax. Maybe you meant '==' or ':=' instead of '='? (1489611265.py, line 5)",
     "output_type": "error",
     "traceback": [
      "  \u001b[36mCell\u001b[39m\u001b[36m \u001b[39m\u001b[32mIn[8]\u001b[39m\u001b[32m, line 5\u001b[39m\n\u001b[31m    \u001b[39m\u001b[31marr=np.array([('Amar',100,20),('Sushma',98,19),('Arpita',100,18),('Sidhu',40,19),dtype=emp])\u001b[39m\n                                                                                     ^\n\u001b[31mSyntaxError\u001b[39m\u001b[31m:\u001b[39m invalid syntax. Maybe you meant '==' or ':=' instead of '='?\n"
     ]
    }
   ],
   "source": [
    "# Assignment:\n",
    "import numpy as np\n",
    "# Creating a composite numpy data types:\n",
    "emp=np.dtype([('std_name','U10'),('score','i4'),('Age','i2')]) # unicode data type is 10\n",
    "arr=np.array([('Amar',100,20),('Sushma',98,19),('Arpita',100,18),('Sidhu',40,19),dtype=emp])\n",
    "print(arr['std_name'])"
   ]
  },
  {
   "cell_type": "code",
   "execution_count": 10,
   "id": "8035d85b-4fe9-4609-9352-5c69c958c8ff",
   "metadata": {},
   "outputs": [
    {
     "ename": "NameError",
     "evalue": "name 'np' is not defined",
     "output_type": "error",
     "traceback": [
      "\u001b[31m---------------------------------------------------------------------------\u001b[39m",
      "\u001b[31mNameError\u001b[39m                                 Traceback (most recent call last)",
      "\u001b[36mCell\u001b[39m\u001b[36m \u001b[39m\u001b[32mIn[10]\u001b[39m\u001b[32m, line 1\u001b[39m\n\u001b[32m----> \u001b[39m\u001b[32m1\u001b[39m \u001b[38;5;28mprint\u001b[39m(\u001b[33m\"\u001b[39m\u001b[33mHighest Marks is: \u001b[39m\u001b[33m\"\u001b[39m, \u001b[43mnp\u001b[49m.max(arr[\u001b[33m'\u001b[39m\u001b[33mscore\u001b[39m\u001b[33m'\u001b[39m]))\n\u001b[32m      2\u001b[39m maxx=np.argmax(arr[\u001b[33m'\u001b[39m\u001b[33mscore\u001b[39m\u001b[33m'\u001b[39m])\n\u001b[32m      3\u001b[39m \u001b[38;5;28mprint\u001b[39m(\u001b[33m\"\u001b[39m\u001b[33mThe maximum score is: \u001b[39m\u001b[33m\"\u001b[39m,np.max(arr[\u001b[33m'\u001b[39m\u001b[33mscore\u001b[39m\u001b[33m'\u001b[39m],\u001b[33m\"\u001b[39m\u001b[33mscored by\u001b[39m\u001b[33m\"\u001b[39m,arr[\u001b[33m'\u001b[39m\u001b[33mstd_name\u001b[39m\u001b[33m'\u001b[39m][maxx]))\n",
      "\u001b[31mNameError\u001b[39m: name 'np' is not defined"
     ]
    }
   ],
   "source": [
    "print(\"Highest Marks is: \", np.max(arr['score']))\n",
    "maxx=np.argmax(arr['score'])\n",
    "print(\"The maximum score is: \",np.max(arr['score'],\"scored by\",arr['std_name'][maxx]))"
   ]
  },
  {
   "cell_type": "code",
   "execution_count": 12,
   "id": "5dc2efb2-0f8d-4cf4-8248-f1a966857093",
   "metadata": {},
   "outputs": [
    {
     "ename": "SyntaxError",
     "evalue": "invalid syntax (1513079904.py, line 4)",
     "output_type": "error",
     "traceback": [
      "  \u001b[36mCell\u001b[39m\u001b[36m \u001b[39m\u001b[32mIn[12]\u001b[39m\u001b[32m, line 4\u001b[39m\n\u001b[31m    \u001b[39m\u001b[31mprint(np.)\u001b[39m\n             ^\n\u001b[31mSyntaxError\u001b[39m\u001b[31m:\u001b[39m invalid syntax\n"
     ]
    }
   ],
   "source": [
    "# Filtering by value\n",
    "pass_list_arr[arr['score']>70]\n",
    "print(pass_list)"
   ]
  },
  {
   "cell_type": "code",
   "execution_count": null,
   "id": "42aabaa3-04d0-4f7c-b1ea-106b25a5ef28",
   "metadata": {},
   "outputs": [],
   "source": [
    "# For assignment\n",
    "# syllabus\n",
    "# find the average of height\n",
    "# Find maximum age\n",
    "# Display the name of the youngest person (use argmin for age)\n",
    "# Find the correlation between age and heigth. Also explain the result"
   ]
  }
 ],
 "metadata": {
  "kernelspec": {
   "display_name": "Python 3 (ipykernel)",
   "language": "python",
   "name": "python3"
  },
  "language_info": {
   "codemirror_mode": {
    "name": "ipython",
    "version": 3
   },
   "file_extension": ".py",
   "mimetype": "text/x-python",
   "name": "python",
   "nbconvert_exporter": "python",
   "pygments_lexer": "ipython3",
   "version": "3.12.7"
  }
 },
 "nbformat": 4,
 "nbformat_minor": 5
}
